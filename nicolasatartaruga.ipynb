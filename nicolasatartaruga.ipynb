{
  "cells": [
    {
      "cell_type": "markdown",
      "metadata": {
        "colab_type": "text",
        "id": "view-in-github"
      },
      "source": [
        "<a href=\"https://colab.research.google.com/github/KaikySr/AulaPrograma-o1Senai/blob/master/nicolasatartaruga.ipynb\" target=\"_parent\"><img src=\"https://colab.research.google.com/assets/colab-badge.svg\" alt=\"Open In Colab\"/></a>"
      ]
    },
    {
      "cell_type": "code",
      "execution_count": 1,
      "metadata": {
        "id": "VP6qo5fNwiwM"
      },
      "outputs": [
        {
          "name": "stdout",
          "output_type": "stream",
          "text": [
            "Defaulting to user installation because normal site-packages is not writeable\n",
            "Collecting tensorflow\n",
            "  Obtaining dependency information for tensorflow from https://files.pythonhosted.org/packages/93/21/9b035a4f823d6aee2917c75415be9a95861ff3d73a0a65e48edbf210cec1/tensorflow-2.15.0-cp311-cp311-win_amd64.whl.metadata\n",
            "  Downloading tensorflow-2.15.0-cp311-cp311-win_amd64.whl.metadata (3.6 kB)\n",
            "Collecting tensorflow-intel==2.15.0 (from tensorflow)\n",
            "  Obtaining dependency information for tensorflow-intel==2.15.0 from https://files.pythonhosted.org/packages/4c/48/1a5a15517f18eaa4ff8d598b1c000300b20c1bb0e624539d702117a0c369/tensorflow_intel-2.15.0-cp311-cp311-win_amd64.whl.metadata\n",
            "  Downloading tensorflow_intel-2.15.0-cp311-cp311-win_amd64.whl.metadata (5.1 kB)\n",
            "Collecting absl-py>=1.0.0 (from tensorflow-intel==2.15.0->tensorflow)\n",
            "  Obtaining dependency information for absl-py>=1.0.0 from https://files.pythonhosted.org/packages/01/e4/dc0a1dcc4e74e08d7abedab278c795eef54a224363bb18f5692f416d834f/absl_py-2.0.0-py3-none-any.whl.metadata\n",
            "  Downloading absl_py-2.0.0-py3-none-any.whl.metadata (2.3 kB)\n",
            "Collecting astunparse>=1.6.0 (from tensorflow-intel==2.15.0->tensorflow)\n",
            "  Downloading astunparse-1.6.3-py2.py3-none-any.whl (12 kB)\n",
            "Collecting flatbuffers>=23.5.26 (from tensorflow-intel==2.15.0->tensorflow)\n",
            "  Obtaining dependency information for flatbuffers>=23.5.26 from https://files.pythonhosted.org/packages/6f/12/d5c79ee252793ffe845d58a913197bfa02ae9a0b5c9bc3dc4b58d477b9e7/flatbuffers-23.5.26-py2.py3-none-any.whl.metadata\n",
            "  Downloading flatbuffers-23.5.26-py2.py3-none-any.whl.metadata (850 bytes)\n",
            "Collecting gast!=0.5.0,!=0.5.1,!=0.5.2,>=0.2.1 (from tensorflow-intel==2.15.0->tensorflow)\n",
            "  Downloading gast-0.5.4-py3-none-any.whl (19 kB)\n",
            "Collecting google-pasta>=0.1.1 (from tensorflow-intel==2.15.0->tensorflow)\n",
            "  Downloading google_pasta-0.2.0-py3-none-any.whl (57 kB)\n",
            "     ---------------------------------------- 0.0/57.5 kB ? eta -:--:--\n",
            "     ---------------------------------------- 57.5/57.5 kB 3.1 MB/s eta 0:00:00\n",
            "Collecting h5py>=2.9.0 (from tensorflow-intel==2.15.0->tensorflow)\n",
            "  Obtaining dependency information for h5py>=2.9.0 from https://files.pythonhosted.org/packages/b6/35/ed21094eb4d8acf31ccc7666a4d8701c1ce38f8d1fa3c7036f24416f6337/h5py-3.10.0-cp311-cp311-win_amd64.whl.metadata\n",
            "  Downloading h5py-3.10.0-cp311-cp311-win_amd64.whl.metadata (2.5 kB)\n",
            "Collecting libclang>=13.0.0 (from tensorflow-intel==2.15.0->tensorflow)\n",
            "  Obtaining dependency information for libclang>=13.0.0 from https://files.pythonhosted.org/packages/02/8c/dc970bc00867fe290e8c8a7befa1635af716a9ebdfe3fb9dce0ca4b522ce/libclang-16.0.6-py2.py3-none-win_amd64.whl.metadata\n",
            "  Downloading libclang-16.0.6-py2.py3-none-win_amd64.whl.metadata (5.3 kB)\n",
            "Collecting ml-dtypes~=0.2.0 (from tensorflow-intel==2.15.0->tensorflow)\n",
            "  Obtaining dependency information for ml-dtypes~=0.2.0 from https://files.pythonhosted.org/packages/08/89/c727fde1a3d12586e0b8c01abf53754707d76beaa9987640e70807d4545f/ml_dtypes-0.2.0-cp311-cp311-win_amd64.whl.metadata\n",
            "  Downloading ml_dtypes-0.2.0-cp311-cp311-win_amd64.whl.metadata (20 kB)\n",
            "Requirement already satisfied: numpy<2.0.0,>=1.23.5 in c:\\users\\disrct\\appdata\\roaming\\python\\python311\\site-packages (from tensorflow-intel==2.15.0->tensorflow) (1.25.2)\n",
            "Collecting opt-einsum>=2.3.2 (from tensorflow-intel==2.15.0->tensorflow)\n",
            "  Downloading opt_einsum-3.3.0-py3-none-any.whl (65 kB)\n",
            "     ---------------------------------------- 0.0/65.5 kB ? eta -:--:--\n",
            "     ---------------------------------------- 65.5/65.5 kB 3.5 MB/s eta 0:00:00\n",
            "Requirement already satisfied: packaging in c:\\users\\disrct\\appdata\\roaming\\python\\python311\\site-packages (from tensorflow-intel==2.15.0->tensorflow) (23.1)\n",
            "Collecting protobuf!=4.21.0,!=4.21.1,!=4.21.2,!=4.21.3,!=4.21.4,!=4.21.5,<5.0.0dev,>=3.20.3 (from tensorflow-intel==2.15.0->tensorflow)\n",
            "  Obtaining dependency information for protobuf!=4.21.0,!=4.21.1,!=4.21.2,!=4.21.3,!=4.21.4,!=4.21.5,<5.0.0dev,>=3.20.3 from https://files.pythonhosted.org/packages/fe/6b/7f177e8d6fe4caa14f4065433af9f879d4fab84f0d17dcba7b407f6bd808/protobuf-4.25.1-cp310-abi3-win_amd64.whl.metadata\n",
            "  Downloading protobuf-4.25.1-cp310-abi3-win_amd64.whl.metadata (541 bytes)\n",
            "Requirement already satisfied: setuptools in c:\\program files\\python311\\lib\\site-packages (from tensorflow-intel==2.15.0->tensorflow) (65.5.0)\n",
            "Requirement already satisfied: six>=1.12.0 in c:\\users\\disrct\\appdata\\roaming\\python\\python311\\site-packages (from tensorflow-intel==2.15.0->tensorflow) (1.16.0)\n",
            "Collecting termcolor>=1.1.0 (from tensorflow-intel==2.15.0->tensorflow)\n",
            "  Downloading termcolor-2.3.0-py3-none-any.whl (6.9 kB)\n",
            "Collecting typing-extensions>=3.6.6 (from tensorflow-intel==2.15.0->tensorflow)\n",
            "  Obtaining dependency information for typing-extensions>=3.6.6 from https://files.pythonhosted.org/packages/24/21/7d397a4b7934ff4028987914ac1044d3b7d52712f30e2ac7a2ae5bc86dd0/typing_extensions-4.8.0-py3-none-any.whl.metadata\n",
            "  Downloading typing_extensions-4.8.0-py3-none-any.whl.metadata (3.0 kB)\n",
            "Collecting wrapt<1.15,>=1.11.0 (from tensorflow-intel==2.15.0->tensorflow)\n",
            "  Obtaining dependency information for wrapt<1.15,>=1.11.0 from https://files.pythonhosted.org/packages/ba/7e/14113996bc6ee68eb987773b4139c87afd3ceff60e27e37648aa5eb2798a/wrapt-1.14.1-cp311-cp311-win_amd64.whl.metadata\n",
            "  Downloading wrapt-1.14.1-cp311-cp311-win_amd64.whl.metadata (6.9 kB)\n",
            "Collecting tensorflow-io-gcs-filesystem>=0.23.1 (from tensorflow-intel==2.15.0->tensorflow)\n",
            "  Downloading tensorflow_io_gcs_filesystem-0.31.0-cp311-cp311-win_amd64.whl (1.5 MB)\n",
            "     ---------------------------------------- 0.0/1.5 MB ? eta -:--:--\n",
            "     ------- -------------------------------- 0.3/1.5 MB 8.9 MB/s eta 0:00:01\n",
            "     ------------ --------------------------- 0.5/1.5 MB 5.8 MB/s eta 0:00:01\n",
            "     --------------- ------------------------ 0.6/1.5 MB 6.1 MB/s eta 0:00:01\n",
            "     ------------------------------ --------- 1.1/1.5 MB 6.6 MB/s eta 0:00:01\n",
            "     ------------------------------ --------- 1.1/1.5 MB 6.6 MB/s eta 0:00:01\n",
            "     ---------------------------------------- 1.5/1.5 MB 5.9 MB/s eta 0:00:00\n",
            "Collecting grpcio<2.0,>=1.24.3 (from tensorflow-intel==2.15.0->tensorflow)\n",
            "  Obtaining dependency information for grpcio<2.0,>=1.24.3 from https://files.pythonhosted.org/packages/bc/e5/f656b17fe1ccda1e2a4fe20298b8bcf7c804561c90ee763e39efc1c3772f/grpcio-1.59.3-cp311-cp311-win_amd64.whl.metadata\n",
            "  Downloading grpcio-1.59.3-cp311-cp311-win_amd64.whl.metadata (4.2 kB)\n",
            "Collecting tensorboard<2.16,>=2.15 (from tensorflow-intel==2.15.0->tensorflow)\n",
            "  Obtaining dependency information for tensorboard<2.16,>=2.15 from https://files.pythonhosted.org/packages/6e/0c/1059a6682cf2cc1fcc0d5327837b5672fe4f5574255fa5430d0a8ceb75e9/tensorboard-2.15.1-py3-none-any.whl.metadata\n",
            "  Downloading tensorboard-2.15.1-py3-none-any.whl.metadata (1.7 kB)\n",
            "Collecting tensorflow-estimator<2.16,>=2.15.0 (from tensorflow-intel==2.15.0->tensorflow)\n",
            "  Obtaining dependency information for tensorflow-estimator<2.16,>=2.15.0 from https://files.pythonhosted.org/packages/b6/c8/2f823c8958d5342eafc6dd3e922f0cc4fcf8c2e0460284cc462dae3b60a0/tensorflow_estimator-2.15.0-py2.py3-none-any.whl.metadata\n",
            "  Downloading tensorflow_estimator-2.15.0-py2.py3-none-any.whl.metadata (1.3 kB)\n",
            "Collecting keras<2.16,>=2.15.0 (from tensorflow-intel==2.15.0->tensorflow)\n",
            "  Obtaining dependency information for keras<2.16,>=2.15.0 from https://files.pythonhosted.org/packages/fc/a7/0d4490de967a67f68a538cc9cdb259bff971c4b5787f7765dc7c8f118f71/keras-2.15.0-py3-none-any.whl.metadata\n",
            "  Downloading keras-2.15.0-py3-none-any.whl.metadata (2.4 kB)\n",
            "Collecting wheel<1.0,>=0.23.0 (from astunparse>=1.6.0->tensorflow-intel==2.15.0->tensorflow)\n",
            "  Obtaining dependency information for wheel<1.0,>=0.23.0 from https://files.pythonhosted.org/packages/fa/7f/4c07234086edbce4a0a446209dc0cb08a19bb206a3ea53b2f56a403f983b/wheel-0.41.3-py3-none-any.whl.metadata\n",
            "  Downloading wheel-0.41.3-py3-none-any.whl.metadata (2.2 kB)\n",
            "Collecting google-auth<3,>=1.6.3 (from tensorboard<2.16,>=2.15->tensorflow-intel==2.15.0->tensorflow)\n",
            "  Obtaining dependency information for google-auth<3,>=1.6.3 from https://files.pythonhosted.org/packages/86/a7/75911c13a242735d5aeaca6a272da380335ff4ba5f26d6b2ae20ff682d13/google_auth-2.23.4-py2.py3-none-any.whl.metadata\n",
            "  Downloading google_auth-2.23.4-py2.py3-none-any.whl.metadata (4.7 kB)\n",
            "Collecting google-auth-oauthlib<2,>=0.5 (from tensorboard<2.16,>=2.15->tensorflow-intel==2.15.0->tensorflow)\n",
            "  Obtaining dependency information for google-auth-oauthlib<2,>=0.5 from https://files.pythonhosted.org/packages/ce/33/a907b4b67245647746dde8d61e1643ef5d210c88e090d491efd89eff9f95/google_auth_oauthlib-1.1.0-py2.py3-none-any.whl.metadata\n",
            "  Downloading google_auth_oauthlib-1.1.0-py2.py3-none-any.whl.metadata (2.7 kB)\n",
            "Collecting markdown>=2.6.8 (from tensorboard<2.16,>=2.15->tensorflow-intel==2.15.0->tensorflow)\n",
            "  Obtaining dependency information for markdown>=2.6.8 from https://files.pythonhosted.org/packages/70/58/2c5a654173937d9f540a4971c569b44dcd55e5424a484d954cdaeebcf79c/Markdown-3.5.1-py3-none-any.whl.metadata\n",
            "  Downloading Markdown-3.5.1-py3-none-any.whl.metadata (7.1 kB)\n",
            "Collecting protobuf!=4.21.0,!=4.21.1,!=4.21.2,!=4.21.3,!=4.21.4,!=4.21.5,<5.0.0dev,>=3.20.3 (from tensorflow-intel==2.15.0->tensorflow)\n",
            "  Obtaining dependency information for protobuf!=4.21.0,!=4.21.1,!=4.21.2,!=4.21.3,!=4.21.4,!=4.21.5,<5.0.0dev,>=3.20.3 from https://files.pythonhosted.org/packages/80/70/dc63d340d27b8ff22022d7dd14b8d6d68b479a003eacdc4507150a286d9a/protobuf-4.23.4-cp310-abi3-win_amd64.whl.metadata\n",
            "  Downloading protobuf-4.23.4-cp310-abi3-win_amd64.whl.metadata (540 bytes)\n",
            "Requirement already satisfied: requests<3,>=2.21.0 in c:\\users\\disrct\\appdata\\roaming\\python\\python311\\site-packages (from tensorboard<2.16,>=2.15->tensorflow-intel==2.15.0->tensorflow) (2.31.0)\n",
            "Collecting tensorboard-data-server<0.8.0,>=0.7.0 (from tensorboard<2.16,>=2.15->tensorflow-intel==2.15.0->tensorflow)\n",
            "  Obtaining dependency information for tensorboard-data-server<0.8.0,>=0.7.0 from https://files.pythonhosted.org/packages/7a/13/e503968fefabd4c6b2650af21e110aa8466fe21432cd7c43a84577a89438/tensorboard_data_server-0.7.2-py3-none-any.whl.metadata\n",
            "  Downloading tensorboard_data_server-0.7.2-py3-none-any.whl.metadata (1.1 kB)\n",
            "Collecting werkzeug>=1.0.1 (from tensorboard<2.16,>=2.15->tensorflow-intel==2.15.0->tensorflow)\n",
            "  Obtaining dependency information for werkzeug>=1.0.1 from https://files.pythonhosted.org/packages/c3/fc/254c3e9b5feb89ff5b9076a23218dafbc99c96ac5941e900b71206e6313b/werkzeug-3.0.1-py3-none-any.whl.metadata\n",
            "  Downloading werkzeug-3.0.1-py3-none-any.whl.metadata (4.1 kB)\n",
            "Collecting cachetools<6.0,>=2.0.0 (from google-auth<3,>=1.6.3->tensorboard<2.16,>=2.15->tensorflow-intel==2.15.0->tensorflow)\n",
            "  Obtaining dependency information for cachetools<6.0,>=2.0.0 from https://files.pythonhosted.org/packages/a2/91/2d843adb9fbd911e0da45fbf6f18ca89d07a087c3daa23e955584f90ebf4/cachetools-5.3.2-py3-none-any.whl.metadata\n",
            "  Downloading cachetools-5.3.2-py3-none-any.whl.metadata (5.2 kB)\n",
            "Collecting pyasn1-modules>=0.2.1 (from google-auth<3,>=1.6.3->tensorboard<2.16,>=2.15->tensorflow-intel==2.15.0->tensorflow)\n",
            "  Downloading pyasn1_modules-0.3.0-py2.py3-none-any.whl (181 kB)\n",
            "     ---------------------------------------- 0.0/181.3 kB ? eta -:--:--\n",
            "     ------------------------------------- 181.3/181.3 kB 11.4 MB/s eta 0:00:00\n",
            "Collecting rsa<5,>=3.1.4 (from google-auth<3,>=1.6.3->tensorboard<2.16,>=2.15->tensorflow-intel==2.15.0->tensorflow)\n",
            "  Downloading rsa-4.9-py3-none-any.whl (34 kB)\n",
            "Collecting requests-oauthlib>=0.7.0 (from google-auth-oauthlib<2,>=0.5->tensorboard<2.16,>=2.15->tensorflow-intel==2.15.0->tensorflow)\n",
            "  Downloading requests_oauthlib-1.3.1-py2.py3-none-any.whl (23 kB)\n",
            "Requirement already satisfied: charset-normalizer<4,>=2 in c:\\users\\disrct\\appdata\\roaming\\python\\python311\\site-packages (from requests<3,>=2.21.0->tensorboard<2.16,>=2.15->tensorflow-intel==2.15.0->tensorflow) (3.2.0)\n",
            "Requirement already satisfied: idna<4,>=2.5 in c:\\users\\disrct\\appdata\\roaming\\python\\python311\\site-packages (from requests<3,>=2.21.0->tensorboard<2.16,>=2.15->tensorflow-intel==2.15.0->tensorflow) (3.4)\n",
            "Requirement already satisfied: urllib3<3,>=1.21.1 in c:\\users\\disrct\\appdata\\roaming\\python\\python311\\site-packages (from requests<3,>=2.21.0->tensorboard<2.16,>=2.15->tensorflow-intel==2.15.0->tensorflow) (2.0.4)\n",
            "Requirement already satisfied: certifi>=2017.4.17 in c:\\users\\disrct\\appdata\\roaming\\python\\python311\\site-packages (from requests<3,>=2.21.0->tensorboard<2.16,>=2.15->tensorflow-intel==2.15.0->tensorflow) (2023.7.22)\n",
            "Collecting MarkupSafe>=2.1.1 (from werkzeug>=1.0.1->tensorboard<2.16,>=2.15->tensorflow-intel==2.15.0->tensorflow)\n",
            "  Obtaining dependency information for MarkupSafe>=2.1.1 from https://files.pythonhosted.org/packages/be/bb/08b85bc194034efbf572e70c3951549c8eca0ada25363afc154386b5390a/MarkupSafe-2.1.3-cp311-cp311-win_amd64.whl.metadata\n",
            "  Downloading MarkupSafe-2.1.3-cp311-cp311-win_amd64.whl.metadata (3.1 kB)\n",
            "Collecting pyasn1<0.6.0,>=0.4.6 (from pyasn1-modules>=0.2.1->google-auth<3,>=1.6.3->tensorboard<2.16,>=2.15->tensorflow-intel==2.15.0->tensorflow)\n",
            "  Obtaining dependency information for pyasn1<0.6.0,>=0.4.6 from https://files.pythonhosted.org/packages/d1/75/4686d2872bf2fc0b37917cbc8bbf0dd3a5cdb0990799be1b9cbf1e1eb733/pyasn1-0.5.1-py2.py3-none-any.whl.metadata\n",
            "  Downloading pyasn1-0.5.1-py2.py3-none-any.whl.metadata (8.6 kB)\n",
            "Collecting oauthlib>=3.0.0 (from requests-oauthlib>=0.7.0->google-auth-oauthlib<2,>=0.5->tensorboard<2.16,>=2.15->tensorflow-intel==2.15.0->tensorflow)\n",
            "  Downloading oauthlib-3.2.2-py3-none-any.whl (151 kB)\n",
            "     ---------------------------------------- 0.0/151.7 kB ? eta -:--:--\n",
            "     -------------------------------------- 151.7/151.7 kB 8.8 MB/s eta 0:00:00\n",
            "Downloading tensorflow-2.15.0-cp311-cp311-win_amd64.whl (2.1 kB)\n",
            "Downloading tensorflow_intel-2.15.0-cp311-cp311-win_amd64.whl (300.9 MB)\n",
            "   ---------------------------------------- 0.0/300.9 MB ? eta -:--:--\n",
            "   ---------------------------------------- 1.1/300.9 MB 23.1 MB/s eta 0:00:13\n",
            "   ---------------------------------------- 2.3/300.9 MB 23.9 MB/s eta 0:00:13\n",
            "   ---------------------------------------- 3.5/300.9 MB 22.1 MB/s eta 0:00:14\n",
            "    --------------------------------------- 4.4/300.9 MB 23.3 MB/s eta 0:00:13\n",
            "    --------------------------------------- 5.6/300.9 MB 23.8 MB/s eta 0:00:13\n",
            "    --------------------------------------- 6.1/300.9 MB 24.2 MB/s eta 0:00:13\n",
            "    --------------------------------------- 7.1/300.9 MB 24.0 MB/s eta 0:00:13\n",
            "    --------------------------------------- 7.3/300.9 MB 19.4 MB/s eta 0:00:16\n",
            "   - -------------------------------------- 7.9/300.9 MB 18.8 MB/s eta 0:00:16\n",
            "   - -------------------------------------- 9.1/300.9 MB 18.9 MB/s eta 0:00:16\n",
            "   - -------------------------------------- 10.3/300.9 MB 19.3 MB/s eta 0:00:16\n",
            "   - -------------------------------------- 11.3/300.9 MB 19.3 MB/s eta 0:00:16\n",
            "   - -------------------------------------- 12.5/300.9 MB 19.8 MB/s eta 0:00:15\n",
            "   - -------------------------------------- 13.7/300.9 MB 19.8 MB/s eta 0:00:15\n",
            "   - -------------------------------------- 14.6/300.9 MB 18.7 MB/s eta 0:00:16\n",
            "   -- ------------------------------------- 15.6/300.9 MB 18.2 MB/s eta 0:00:16\n",
            "   -- ------------------------------------- 16.6/300.9 MB 19.3 MB/s eta 0:00:15\n",
            "   -- ------------------------------------- 17.6/300.9 MB 21.1 MB/s eta 0:00:14\n",
            "   -- ------------------------------------- 18.6/300.9 MB 21.1 MB/s eta 0:00:14\n",
            "   -- ------------------------------------- 18.8/300.9 MB 19.3 MB/s eta 0:00:15\n",
            "   -- ------------------------------------- 19.1/300.9 MB 18.2 MB/s eta 0:00:16\n",
            "   -- ------------------------------------- 20.2/300.9 MB 18.2 MB/s eta 0:00:16\n",
            "   -- ------------------------------------- 21.3/300.9 MB 18.2 MB/s eta 0:00:16\n",
            "   -- ------------------------------------- 21.4/300.9 MB 17.7 MB/s eta 0:00:16\n",
            "   --- ------------------------------------ 22.8/300.9 MB 18.2 MB/s eta 0:00:16\n",
            "   --- ------------------------------------ 24.0/300.9 MB 17.7 MB/s eta 0:00:16\n",
            "   --- ------------------------------------ 25.0/300.9 MB 17.7 MB/s eta 0:00:16\n",
            "   --- ------------------------------------ 26.0/300.9 MB 17.7 MB/s eta 0:00:16\n",
            "   --- ------------------------------------ 27.1/300.9 MB 17.7 MB/s eta 0:00:16\n",
            "   --- ------------------------------------ 28.4/300.9 MB 18.7 MB/s eta 0:00:15\n",
            "   --- ------------------------------------ 29.2/300.9 MB 21.1 MB/s eta 0:00:13\n",
            "   --- ------------------------------------ 29.6/300.9 MB 21.8 MB/s eta 0:00:13\n",
            "   --- ------------------------------------ 29.6/300.9 MB 21.8 MB/s eta 0:00:13\n",
            "   ---- ----------------------------------- 30.6/300.9 MB 18.7 MB/s eta 0:00:15\n",
            "   ---- ----------------------------------- 31.8/300.9 MB 19.8 MB/s eta 0:00:14\n",
            "   ---- ----------------------------------- 33.0/300.9 MB 18.7 MB/s eta 0:00:15\n",
            "   ---- ----------------------------------- 34.2/300.9 MB 19.3 MB/s eta 0:00:14\n",
            "   ---- ----------------------------------- 35.4/300.9 MB 19.8 MB/s eta 0:00:14\n",
            "   ---- ----------------------------------- 36.4/300.9 MB 19.8 MB/s eta 0:00:14\n",
            "   ---- ----------------------------------- 37.5/300.9 MB 19.3 MB/s eta 0:00:14\n",
            "   ----- ---------------------------------- 38.3/300.9 MB 18.7 MB/s eta 0:00:15\n",
            "   ----- ---------------------------------- 38.9/300.9 MB 18.2 MB/s eta 0:00:15\n",
            "   ----- ---------------------------------- 39.6/300.9 MB 17.7 MB/s eta 0:00:15\n",
            "   ----- ---------------------------------- 40.3/300.9 MB 20.5 MB/s eta 0:00:13\n",
            "   ----- ---------------------------------- 41.3/300.9 MB 19.8 MB/s eta 0:00:14\n",
            "   ----- ---------------------------------- 42.3/300.9 MB 19.8 MB/s eta 0:00:14\n",
            "   ----- ---------------------------------- 43.1/300.9 MB 19.8 MB/s eta 0:00:14\n",
            "   ----- ---------------------------------- 44.2/300.9 MB 19.2 MB/s eta 0:00:14\n",
            "   ------ --------------------------------- 45.4/300.9 MB 19.9 MB/s eta 0:00:13\n",
            "   ------ --------------------------------- 46.4/300.9 MB 19.9 MB/s eta 0:00:13\n",
            "   ------ --------------------------------- 47.6/300.9 MB 19.8 MB/s eta 0:00:13\n",
            "   ------ --------------------------------- 48.8/300.9 MB 20.5 MB/s eta 0:00:13\n",
            "   ------ --------------------------------- 49.3/300.9 MB 20.5 MB/s eta 0:00:13\n",
            "   ------ --------------------------------- 49.6/300.9 MB 18.7 MB/s eta 0:00:14\n",
            "   ------ --------------------------------- 50.2/300.9 MB 18.2 MB/s eta 0:00:14\n",
            "   ------ --------------------------------- 51.2/300.9 MB 18.7 MB/s eta 0:00:14\n",
            "   ------ --------------------------------- 52.3/300.9 MB 18.7 MB/s eta 0:00:14\n",
            "   ------- -------------------------------- 53.0/300.9 MB 18.7 MB/s eta 0:00:14\n",
            "   ------- -------------------------------- 54.1/300.9 MB 18.7 MB/s eta 0:00:14\n",
            "   ------- -------------------------------- 55.1/300.9 MB 18.7 MB/s eta 0:00:14\n",
            "   ------- -------------------------------- 56.3/300.9 MB 18.7 MB/s eta 0:00:14\n",
            "   ------- -------------------------------- 57.3/300.9 MB 18.2 MB/s eta 0:00:14\n",
            "   ------- -------------------------------- 58.4/300.9 MB 18.2 MB/s eta 0:00:14\n",
            "   ------- -------------------------------- 59.6/300.9 MB 21.1 MB/s eta 0:00:12\n",
            "   -------- ------------------------------- 60.6/300.9 MB 21.1 MB/s eta 0:00:12\n",
            "   -------- ------------------------------- 61.6/300.9 MB 21.1 MB/s eta 0:00:12\n",
            "   -------- ------------------------------- 62.6/300.9 MB 21.9 MB/s eta 0:00:11\n",
            "   -------- ------------------------------- 63.7/300.9 MB 21.1 MB/s eta 0:00:12\n",
            "   -------- ------------------------------- 64.5/300.9 MB 21.1 MB/s eta 0:00:12\n",
            "   -------- ------------------------------- 65.5/300.9 MB 21.1 MB/s eta 0:00:12\n",
            "   -------- ------------------------------- 66.4/300.9 MB 21.1 MB/s eta 0:00:12\n",
            "   -------- ------------------------------- 67.4/300.9 MB 21.1 MB/s eta 0:00:12\n",
            "   --------- ------------------------------ 68.1/300.9 MB 20.5 MB/s eta 0:00:12\n",
            "   --------- ------------------------------ 68.8/300.9 MB 20.5 MB/s eta 0:00:12\n",
            "   --------- ------------------------------ 69.8/300.9 MB 20.5 MB/s eta 0:00:12\n",
            "   --------- ------------------------------ 70.9/300.9 MB 20.5 MB/s eta 0:00:12\n",
            "   --------- ------------------------------ 72.0/300.9 MB 19.8 MB/s eta 0:00:12\n",
            "   --------- ------------------------------ 72.9/300.9 MB 19.8 MB/s eta 0:00:12\n",
            "   --------- ------------------------------ 73.7/300.9 MB 19.2 MB/s eta 0:00:12\n",
            "   --------- ------------------------------ 74.6/300.9 MB 19.3 MB/s eta 0:00:12\n",
            "   --------- ------------------------------ 75.1/300.9 MB 18.7 MB/s eta 0:00:13\n",
            "   ---------- ----------------------------- 76.1/300.9 MB 18.7 MB/s eta 0:00:13\n",
            "   ---------- ----------------------------- 77.0/300.9 MB 18.7 MB/s eta 0:00:12\n",
            "   ---------- ----------------------------- 78.0/300.9 MB 18.7 MB/s eta 0:00:12\n",
            "   ---------- ----------------------------- 79.0/300.9 MB 19.3 MB/s eta 0:00:12\n",
            "   ---------- ----------------------------- 80.1/300.9 MB 19.8 MB/s eta 0:00:12\n",
            "   ---------- ----------------------------- 80.7/300.9 MB 18.7 MB/s eta 0:00:12\n",
            "   ---------- ----------------------------- 81.3/300.9 MB 18.2 MB/s eta 0:00:13\n",
            "   ---------- ----------------------------- 82.1/300.9 MB 17.7 MB/s eta 0:00:13\n",
            "   ----------- ---------------------------- 83.1/300.9 MB 18.2 MB/s eta 0:00:12\n",
            "   ----------- ---------------------------- 84.0/300.9 MB 18.7 MB/s eta 0:00:12\n",
            "   ----------- ---------------------------- 84.6/300.9 MB 17.7 MB/s eta 0:00:13\n",
            "   ----------- ---------------------------- 85.4/300.9 MB 18.2 MB/s eta 0:00:12\n",
            "   ----------- ---------------------------- 86.3/300.9 MB 18.2 MB/s eta 0:00:12\n",
            "   ----------- ---------------------------- 87.5/300.9 MB 18.7 MB/s eta 0:00:12\n",
            "   ----------- ---------------------------- 88.5/300.9 MB 18.2 MB/s eta 0:00:12\n",
            "   ----------- ---------------------------- 89.1/300.9 MB 17.7 MB/s eta 0:00:12\n",
            "   ----------- ---------------------------- 89.8/300.9 MB 17.7 MB/s eta 0:00:12\n",
            "   ------------ --------------------------- 90.8/300.9 MB 17.2 MB/s eta 0:00:13\n",
            "   ------------ --------------------------- 91.4/300.9 MB 17.7 MB/s eta 0:00:12\n",
            "   ------------ --------------------------- 92.1/300.9 MB 17.3 MB/s eta 0:00:13\n",
            "   ------------ --------------------------- 93.3/300.9 MB 17.2 MB/s eta 0:00:13\n",
            "   ------------ --------------------------- 94.1/300.9 MB 17.2 MB/s eta 0:00:13\n",
            "   ------------ --------------------------- 94.7/300.9 MB 17.2 MB/s eta 0:00:12\n",
            "   ------------ --------------------------- 95.7/300.9 MB 17.7 MB/s eta 0:00:12\n",
            "   ------------ --------------------------- 96.8/300.9 MB 18.2 MB/s eta 0:00:12\n",
            "   ------------ --------------------------- 97.6/300.9 MB 17.3 MB/s eta 0:00:12\n",
            "   ------------- -------------------------- 98.5/300.9 MB 17.7 MB/s eta 0:00:12\n",
            "   ------------- -------------------------- 99.6/300.9 MB 17.7 MB/s eta 0:00:12\n",
            "   ------------- ------------------------- 100.5/300.9 MB 18.2 MB/s eta 0:00:12\n",
            "   ------------- ------------------------- 101.2/300.9 MB 18.2 MB/s eta 0:00:11\n",
            "   ------------- ------------------------- 101.8/300.9 MB 19.3 MB/s eta 0:00:11\n",
            "   ------------- ------------------------- 102.4/300.9 MB 18.7 MB/s eta 0:00:11\n",
            "   ------------- ------------------------- 103.1/300.9 MB 18.2 MB/s eta 0:00:11\n",
            "   ------------- ------------------------- 104.0/300.9 MB 18.2 MB/s eta 0:00:11\n",
            "   ------------- ------------------------- 104.6/300.9 MB 18.2 MB/s eta 0:00:11\n",
            "   ------------- ------------------------- 105.2/300.9 MB 17.2 MB/s eta 0:00:12\n",
            "   ------------- ------------------------- 105.7/300.9 MB 16.8 MB/s eta 0:00:12\n",
            "   ------------- ------------------------- 106.6/300.9 MB 17.2 MB/s eta 0:00:12\n",
            "   ------------- ------------------------- 107.6/300.9 MB 17.3 MB/s eta 0:00:12\n",
            "   -------------- ------------------------ 108.7/300.9 MB 17.3 MB/s eta 0:00:12\n",
            "   -------------- ------------------------ 109.8/300.9 MB 17.7 MB/s eta 0:00:11\n",
            "   -------------- ------------------------ 110.7/300.9 MB 18.2 MB/s eta 0:00:11\n",
            "   -------------- ------------------------ 111.7/300.9 MB 17.7 MB/s eta 0:00:11\n",
            "   -------------- ------------------------ 112.6/300.9 MB 18.2 MB/s eta 0:00:11\n",
            "   -------------- ------------------------ 113.5/300.9 MB 18.7 MB/s eta 0:00:11\n",
            "   -------------- ------------------------ 114.8/300.9 MB 19.8 MB/s eta 0:00:10\n",
            "   --------------- ----------------------- 115.9/300.9 MB 21.1 MB/s eta 0:00:09\n",
            "   --------------- ----------------------- 116.7/300.9 MB 21.1 MB/s eta 0:00:09\n",
            "   --------------- ----------------------- 117.4/300.9 MB 20.5 MB/s eta 0:00:09\n",
            "   --------------- ----------------------- 118.2/300.9 MB 20.5 MB/s eta 0:00:09\n",
            "   --------------- ----------------------- 119.4/300.9 MB 21.1 MB/s eta 0:00:09\n",
            "   --------------- ----------------------- 120.3/300.9 MB 19.9 MB/s eta 0:00:10\n",
            "   --------------- ----------------------- 121.3/300.9 MB 20.5 MB/s eta 0:00:09\n",
            "   --------------- ----------------------- 122.4/300.9 MB 20.5 MB/s eta 0:00:09\n",
            "   --------------- ----------------------- 123.1/300.9 MB 20.5 MB/s eta 0:00:09\n",
            "   ---------------- ---------------------- 124.0/300.9 MB 19.8 MB/s eta 0:00:09\n",
            "   ---------------- ---------------------- 125.1/300.9 MB 19.3 MB/s eta 0:00:10\n",
            "   ---------------- ---------------------- 126.1/300.9 MB 19.2 MB/s eta 0:00:10\n",
            "   ---------------- ---------------------- 126.8/300.9 MB 19.2 MB/s eta 0:00:10\n",
            "   ---------------- ---------------------- 127.7/300.9 MB 19.3 MB/s eta 0:00:09\n",
            "   ---------------- ---------------------- 128.5/300.9 MB 19.8 MB/s eta 0:00:09\n",
            "   ---------------- ---------------------- 129.2/300.9 MB 17.7 MB/s eta 0:00:10\n",
            "   ---------------- ---------------------- 129.8/300.9 MB 17.7 MB/s eta 0:00:10\n",
            "   ---------------- ---------------------- 129.9/300.9 MB 18.7 MB/s eta 0:00:10\n",
            "   ---------------- ---------------------- 130.4/300.9 MB 16.4 MB/s eta 0:00:11\n",
            "   ----------------- --------------------- 131.5/300.9 MB 16.4 MB/s eta 0:00:11\n",
            "   ----------------- --------------------- 132.6/300.9 MB 16.4 MB/s eta 0:00:11\n",
            "   ----------------- --------------------- 133.7/300.9 MB 17.3 MB/s eta 0:00:10\n",
            "   ----------------- --------------------- 134.5/300.9 MB 16.8 MB/s eta 0:00:10\n",
            "   ----------------- --------------------- 135.7/300.9 MB 16.8 MB/s eta 0:00:10\n",
            "   ----------------- --------------------- 136.9/300.9 MB 17.2 MB/s eta 0:00:10\n",
            "   ----------------- --------------------- 137.4/300.9 MB 17.2 MB/s eta 0:00:10\n",
            "   ----------------- --------------------- 137.9/300.9 MB 16.8 MB/s eta 0:00:10\n",
            "   ----------------- --------------------- 138.3/300.9 MB 15.6 MB/s eta 0:00:11\n",
            "   ------------------ -------------------- 139.1/300.9 MB 16.8 MB/s eta 0:00:10\n",
            "   ------------------ -------------------- 140.2/300.9 MB 18.2 MB/s eta 0:00:09\n",
            "   ------------------ -------------------- 141.0/300.9 MB 18.7 MB/s eta 0:00:09\n",
            "   ------------------ -------------------- 142.1/300.9 MB 18.7 MB/s eta 0:00:09\n",
            "   ------------------ -------------------- 143.3/300.9 MB 19.3 MB/s eta 0:00:09\n",
            "   ------------------ -------------------- 144.4/300.9 MB 19.2 MB/s eta 0:00:09\n",
            "   ------------------ -------------------- 145.7/300.9 MB 19.3 MB/s eta 0:00:09\n",
            "   ------------------- ------------------- 146.7/300.9 MB 19.3 MB/s eta 0:00:09\n",
            "   ------------------- ------------------- 147.6/300.9 MB 19.3 MB/s eta 0:00:08\n",
            "   ------------------- ------------------- 148.8/300.9 MB 21.8 MB/s eta 0:00:07\n",
            "   ------------------- ------------------- 150.0/300.9 MB 22.6 MB/s eta 0:00:07\n",
            "   ------------------- ------------------- 151.1/300.9 MB 23.4 MB/s eta 0:00:07\n",
            "   ------------------- ------------------- 151.8/300.9 MB 23.4 MB/s eta 0:00:07\n",
            "   ------------------- ------------------- 152.8/300.9 MB 23.4 MB/s eta 0:00:07\n",
            "   ------------------- ------------------- 153.9/300.9 MB 23.4 MB/s eta 0:00:07\n",
            "   -------------------- ------------------ 154.9/300.9 MB 22.6 MB/s eta 0:00:07\n",
            "   -------------------- ------------------ 155.5/300.9 MB 21.8 MB/s eta 0:00:07\n",
            "   -------------------- ------------------ 156.7/300.9 MB 23.4 MB/s eta 0:00:07\n",
            "   -------------------- ------------------ 157.5/300.9 MB 21.9 MB/s eta 0:00:07\n",
            "   -------------------- ------------------ 158.1/300.9 MB 21.1 MB/s eta 0:00:07\n",
            "   -------------------- ------------------ 158.3/300.9 MB 19.2 MB/s eta 0:00:08\n",
            "   -------------------- ------------------ 159.3/300.9 MB 18.7 MB/s eta 0:00:08\n",
            "   -------------------- ------------------ 160.3/300.9 MB 18.7 MB/s eta 0:00:08\n",
            "   -------------------- ------------------ 161.6/300.9 MB 18.7 MB/s eta 0:00:08\n",
            "   --------------------- ----------------- 162.8/300.9 MB 18.7 MB/s eta 0:00:08\n",
            "   --------------------- ----------------- 163.5/300.9 MB 18.7 MB/s eta 0:00:08\n",
            "   --------------------- ----------------- 164.4/300.9 MB 18.7 MB/s eta 0:00:08\n",
            "   --------------------- ----------------- 165.5/300.9 MB 19.3 MB/s eta 0:00:08\n",
            "   --------------------- ----------------- 166.4/300.9 MB 18.7 MB/s eta 0:00:08\n",
            "   --------------------- ----------------- 167.1/300.9 MB 18.7 MB/s eta 0:00:08\n",
            "   --------------------- ----------------- 168.3/300.9 MB 19.3 MB/s eta 0:00:07\n",
            "   --------------------- ----------------- 169.2/300.9 MB 21.1 MB/s eta 0:00:07\n",
            "   ---------------------- ---------------- 170.3/300.9 MB 21.1 MB/s eta 0:00:07\n",
            "   ---------------------- ---------------- 171.4/300.9 MB 21.1 MB/s eta 0:00:07\n",
            "   ---------------------- ---------------- 172.5/300.9 MB 21.1 MB/s eta 0:00:07\n",
            "   ---------------------- ---------------- 173.7/300.9 MB 21.1 MB/s eta 0:00:07\n",
            "   ---------------------- ---------------- 174.3/300.9 MB 20.5 MB/s eta 0:00:07\n",
            "   ---------------------- ---------------- 174.4/300.9 MB 18.7 MB/s eta 0:00:07\n",
            "   ---------------------- ---------------- 174.9/300.9 MB 19.3 MB/s eta 0:00:07\n",
            "   ---------------------- ---------------- 176.3/300.9 MB 18.2 MB/s eta 0:00:07\n",
            "   ---------------------- ---------------- 177.1/300.9 MB 18.2 MB/s eta 0:00:07\n",
            "   ----------------------- --------------- 177.8/300.9 MB 18.2 MB/s eta 0:00:07\n",
            "   ----------------------- --------------- 178.4/300.9 MB 17.2 MB/s eta 0:00:08\n",
            "   ----------------------- --------------- 178.8/300.9 MB 16.8 MB/s eta 0:00:08\n",
            "   ----------------------- --------------- 179.7/300.9 MB 16.0 MB/s eta 0:00:08\n",
            "   ----------------------- --------------- 180.2/300.9 MB 15.6 MB/s eta 0:00:08\n",
            "   ----------------------- --------------- 180.6/300.9 MB 15.2 MB/s eta 0:00:08\n",
            "   ----------------------- --------------- 181.1/300.9 MB 14.6 MB/s eta 0:00:09\n",
            "   ----------------------- --------------- 181.7/300.9 MB 14.2 MB/s eta 0:00:09\n",
            "   ----------------------- --------------- 182.2/300.9 MB 14.2 MB/s eta 0:00:09\n",
            "   ----------------------- --------------- 183.0/300.9 MB 13.6 MB/s eta 0:00:09\n",
            "   ----------------------- --------------- 184.0/300.9 MB 13.4 MB/s eta 0:00:09\n",
            "   ----------------------- --------------- 185.0/300.9 MB 14.6 MB/s eta 0:00:08\n",
            "   ------------------------ -------------- 185.8/300.9 MB 14.9 MB/s eta 0:00:08\n",
            "   ------------------------ -------------- 186.9/300.9 MB 14.6 MB/s eta 0:00:08\n",
            "   ------------------------ -------------- 187.4/300.9 MB 14.9 MB/s eta 0:00:08\n",
            "   ------------------------ -------------- 188.2/300.9 MB 15.2 MB/s eta 0:00:08\n",
            "   ------------------------ -------------- 189.1/300.9 MB 16.0 MB/s eta 0:00:08\n",
            "   ------------------------ -------------- 189.8/300.9 MB 15.2 MB/s eta 0:00:08\n",
            "   ------------------------ -------------- 190.3/300.9 MB 15.6 MB/s eta 0:00:08\n",
            "   ------------------------ -------------- 191.2/300.9 MB 16.4 MB/s eta 0:00:07\n",
            "   ------------------------ -------------- 191.7/300.9 MB 16.0 MB/s eta 0:00:07\n",
            "   ------------------------ -------------- 192.5/300.9 MB 16.8 MB/s eta 0:00:07\n",
            "   ------------------------- ------------- 193.4/300.9 MB 17.2 MB/s eta 0:00:07\n",
            "   ------------------------- ------------- 194.1/300.9 MB 16.8 MB/s eta 0:00:07\n",
            "   ------------------------- ------------- 195.1/300.9 MB 16.8 MB/s eta 0:00:07\n",
            "   ------------------------- ------------- 196.0/300.9 MB 16.8 MB/s eta 0:00:07\n",
            "   ------------------------- ------------- 196.9/300.9 MB 17.3 MB/s eta 0:00:07\n",
            "   ------------------------- ------------- 197.8/300.9 MB 17.3 MB/s eta 0:00:06\n",
            "   ------------------------- ------------- 198.6/300.9 MB 16.8 MB/s eta 0:00:07\n",
            "   ------------------------- ------------- 199.6/300.9 MB 16.8 MB/s eta 0:00:07\n",
            "   ------------------------- ------------- 200.3/300.9 MB 17.2 MB/s eta 0:00:06\n",
            "   -------------------------- ------------ 201.3/300.9 MB 17.3 MB/s eta 0:00:06\n",
            "   -------------------------- ------------ 201.8/300.9 MB 17.7 MB/s eta 0:00:06\n",
            "   -------------------------- ------------ 202.5/300.9 MB 17.7 MB/s eta 0:00:06\n",
            "   -------------------------- ------------ 203.3/300.9 MB 18.2 MB/s eta 0:00:06\n",
            "   -------------------------- ------------ 204.2/300.9 MB 17.2 MB/s eta 0:00:06\n",
            "   -------------------------- ------------ 205.1/300.9 MB 17.2 MB/s eta 0:00:06\n",
            "   -------------------------- ------------ 206.2/300.9 MB 17.7 MB/s eta 0:00:06\n",
            "   -------------------------- ------------ 207.2/300.9 MB 17.2 MB/s eta 0:00:06\n",
            "   -------------------------- ------------ 208.0/300.9 MB 17.2 MB/s eta 0:00:06\n",
            "   --------------------------- ----------- 209.0/300.9 MB 18.2 MB/s eta 0:00:06\n",
            "   --------------------------- ----------- 209.7/300.9 MB 17.7 MB/s eta 0:00:06\n",
            "   --------------------------- ----------- 210.6/300.9 MB 18.2 MB/s eta 0:00:05\n",
            "   --------------------------- ----------- 211.5/300.9 MB 17.7 MB/s eta 0:00:06\n",
            "   --------------------------- ----------- 212.5/300.9 MB 18.7 MB/s eta 0:00:05\n",
            "   --------------------------- ----------- 213.5/300.9 MB 18.7 MB/s eta 0:00:05\n",
            "   --------------------------- ----------- 214.0/300.9 MB 19.2 MB/s eta 0:00:05\n",
            "   --------------------------- ----------- 214.8/300.9 MB 18.7 MB/s eta 0:00:05\n",
            "   --------------------------- ----------- 215.5/300.9 MB 18.7 MB/s eta 0:00:05\n",
            "   ---------------------------- ---------- 216.5/300.9 MB 18.2 MB/s eta 0:00:05\n",
            "   ---------------------------- ---------- 217.4/300.9 MB 18.2 MB/s eta 0:00:05\n",
            "   ---------------------------- ---------- 218.1/300.9 MB 18.2 MB/s eta 0:00:05\n",
            "   ---------------------------- ---------- 218.9/300.9 MB 18.2 MB/s eta 0:00:05\n",
            "   ---------------------------- ---------- 219.9/300.9 MB 17.7 MB/s eta 0:00:05\n",
            "   ---------------------------- ---------- 220.8/300.9 MB 17.7 MB/s eta 0:00:05\n",
            "   ---------------------------- ---------- 221.9/300.9 MB 18.2 MB/s eta 0:00:05\n",
            "   ---------------------------- ---------- 222.6/300.9 MB 17.7 MB/s eta 0:00:05\n",
            "   ---------------------------- ---------- 223.4/300.9 MB 17.7 MB/s eta 0:00:05\n",
            "   ----------------------------- --------- 224.0/300.9 MB 17.7 MB/s eta 0:00:05\n",
            "   ----------------------------- --------- 224.9/300.9 MB 17.2 MB/s eta 0:00:05\n",
            "   ----------------------------- --------- 225.8/300.9 MB 17.7 MB/s eta 0:00:05\n",
            "   ----------------------------- --------- 226.9/300.9 MB 17.7 MB/s eta 0:00:05\n",
            "   ----------------------------- --------- 227.9/300.9 MB 18.2 MB/s eta 0:00:05\n",
            "   ----------------------------- --------- 229.0/300.9 MB 18.2 MB/s eta 0:00:04\n",
            "   ----------------------------- --------- 230.1/300.9 MB 18.7 MB/s eta 0:00:04\n",
            "   ----------------------------- --------- 231.2/300.9 MB 18.7 MB/s eta 0:00:04\n",
            "   ------------------------------ -------- 232.4/300.9 MB 19.8 MB/s eta 0:00:04\n",
            "   ------------------------------ -------- 233.4/300.9 MB 20.5 MB/s eta 0:00:04\n",
            "   ------------------------------ -------- 234.6/300.9 MB 21.8 MB/s eta 0:00:04\n",
            "   ------------------------------ -------- 235.6/300.9 MB 21.1 MB/s eta 0:00:04\n",
            "   ------------------------------ -------- 236.6/300.9 MB 21.8 MB/s eta 0:00:03\n",
            "   ------------------------------ -------- 237.4/300.9 MB 21.1 MB/s eta 0:00:04\n",
            "   ------------------------------ -------- 238.2/300.9 MB 21.1 MB/s eta 0:00:03\n",
            "   ------------------------------- ------- 239.4/300.9 MB 20.5 MB/s eta 0:00:04\n",
            "   ------------------------------- ------- 240.5/300.9 MB 21.1 MB/s eta 0:00:03\n",
            "   ------------------------------- ------- 241.2/300.9 MB 20.5 MB/s eta 0:00:03\n",
            "   ------------------------------- ------- 242.1/300.9 MB 19.9 MB/s eta 0:00:03\n",
            "   ------------------------------- ------- 242.9/300.9 MB 19.9 MB/s eta 0:00:03\n",
            "   ------------------------------- ------- 243.3/300.9 MB 18.7 MB/s eta 0:00:04\n",
            "   ------------------------------- ------- 244.2/300.9 MB 18.2 MB/s eta 0:00:04\n",
            "   ------------------------------- ------- 245.2/300.9 MB 18.2 MB/s eta 0:00:04\n",
            "   ------------------------------- ------- 245.5/300.9 MB 17.7 MB/s eta 0:00:04\n",
            "   ------------------------------- ------- 246.3/300.9 MB 16.8 MB/s eta 0:00:04\n",
            "   ------------------------------- ------- 246.9/300.9 MB 16.4 MB/s eta 0:00:04\n",
            "   -------------------------------- ------ 247.4/300.9 MB 16.0 MB/s eta 0:00:04\n",
            "   -------------------------------- ------ 248.3/300.9 MB 16.8 MB/s eta 0:00:04\n",
            "   -------------------------------- ------ 249.3/300.9 MB 16.4 MB/s eta 0:00:04\n",
            "   -------------------------------- ------ 250.2/300.9 MB 16.0 MB/s eta 0:00:04\n",
            "   -------------------------------- ------ 250.7/300.9 MB 15.2 MB/s eta 0:00:04\n",
            "   -------------------------------- ------ 251.3/300.9 MB 14.9 MB/s eta 0:00:04\n",
            "   -------------------------------- ------ 252.3/300.9 MB 14.9 MB/s eta 0:00:04\n",
            "   -------------------------------- ------ 253.0/300.9 MB 14.9 MB/s eta 0:00:04\n",
            "   -------------------------------- ------ 253.9/300.9 MB 16.0 MB/s eta 0:00:03\n",
            "   --------------------------------- ----- 254.7/300.9 MB 15.6 MB/s eta 0:00:03\n",
            "   --------------------------------- ----- 255.6/300.9 MB 16.0 MB/s eta 0:00:03\n",
            "   --------------------------------- ----- 256.3/300.9 MB 16.4 MB/s eta 0:00:03\n",
            "   --------------------------------- ----- 257.3/300.9 MB 16.8 MB/s eta 0:00:03\n",
            "   --------------------------------- ----- 258.2/300.9 MB 17.2 MB/s eta 0:00:03\n",
            "   --------------------------------- ----- 259.1/300.9 MB 17.2 MB/s eta 0:00:03\n",
            "   --------------------------------- ----- 260.0/300.9 MB 17.7 MB/s eta 0:00:03\n",
            "   --------------------------------- ----- 260.9/300.9 MB 18.2 MB/s eta 0:00:03\n",
            "   --------------------------------- ----- 261.9/300.9 MB 18.7 MB/s eta 0:00:03\n",
            "   ---------------------------------- ---- 262.9/300.9 MB 18.7 MB/s eta 0:00:03\n",
            "   ---------------------------------- ---- 263.4/300.9 MB 18.2 MB/s eta 0:00:03\n",
            "   ---------------------------------- ---- 263.8/300.9 MB 17.7 MB/s eta 0:00:03\n",
            "   ---------------------------------- ---- 264.2/300.9 MB 16.8 MB/s eta 0:00:03\n",
            "   ---------------------------------- ---- 264.7/300.9 MB 16.0 MB/s eta 0:00:03\n",
            "   ---------------------------------- ---- 265.5/300.9 MB 16.4 MB/s eta 0:00:03\n",
            "   ---------------------------------- ---- 266.4/300.9 MB 16.8 MB/s eta 0:00:03\n",
            "   ---------------------------------- ---- 267.1/300.9 MB 16.4 MB/s eta 0:00:03\n",
            "   ---------------------------------- ---- 268.2/300.9 MB 16.8 MB/s eta 0:00:02\n",
            "   ---------------------------------- ---- 269.2/300.9 MB 16.4 MB/s eta 0:00:02\n",
            "   ----------------------------------- --- 270.3/300.9 MB 16.4 MB/s eta 0:00:02\n",
            "   ----------------------------------- --- 271.6/300.9 MB 16.8 MB/s eta 0:00:02\n",
            "   ----------------------------------- --- 272.6/300.9 MB 16.8 MB/s eta 0:00:02\n",
            "   ----------------------------------- --- 273.6/300.9 MB 17.7 MB/s eta 0:00:02\n",
            "   ----------------------------------- --- 274.4/300.9 MB 19.2 MB/s eta 0:00:02\n",
            "   ----------------------------------- --- 274.8/300.9 MB 20.5 MB/s eta 0:00:02\n",
            "   ----------------------------------- --- 275.4/300.9 MB 19.3 MB/s eta 0:00:02\n",
            "   ----------------------------------- --- 276.3/300.9 MB 18.7 MB/s eta 0:00:02\n",
            "   ----------------------------------- --- 276.9/300.9 MB 19.3 MB/s eta 0:00:02\n",
            "   ----------------------------------- --- 277.6/300.9 MB 18.7 MB/s eta 0:00:02\n",
            "   ------------------------------------ -- 278.3/300.9 MB 17.7 MB/s eta 0:00:02\n",
            "   ------------------------------------ -- 279.4/300.9 MB 17.7 MB/s eta 0:00:02\n",
            "   ------------------------------------ -- 280.4/300.9 MB 18.2 MB/s eta 0:00:02\n",
            "   ------------------------------------ -- 281.3/300.9 MB 17.7 MB/s eta 0:00:02\n",
            "   ------------------------------------ -- 282.4/300.9 MB 17.2 MB/s eta 0:00:02\n",
            "   ------------------------------------ -- 283.6/300.9 MB 17.7 MB/s eta 0:00:01\n",
            "   ------------------------------------ -- 284.8/300.9 MB 17.7 MB/s eta 0:00:01\n",
            "   ------------------------------------- - 286.1/300.9 MB 20.5 MB/s eta 0:00:01\n",
            "   ------------------------------------- - 286.9/300.9 MB 20.5 MB/s eta 0:00:01\n",
            "   ------------------------------------- - 287.6/300.9 MB 20.5 MB/s eta 0:00:01\n",
            "   ------------------------------------- - 288.8/300.9 MB 21.1 MB/s eta 0:00:01\n",
            "   ------------------------------------- - 289.7/300.9 MB 21.8 MB/s eta 0:00:01\n",
            "   ------------------------------------- - 290.8/300.9 MB 21.8 MB/s eta 0:00:01\n",
            "   ------------------------------------- - 291.9/300.9 MB 21.9 MB/s eta 0:00:01\n",
            "   ------------------------------------- - 293.0/300.9 MB 21.1 MB/s eta 0:00:01\n",
            "   --------------------------------------  293.9/300.9 MB 20.5 MB/s eta 0:00:01\n",
            "   --------------------------------------  294.8/300.9 MB 20.5 MB/s eta 0:00:01\n",
            "   --------------------------------------  295.4/300.9 MB 19.8 MB/s eta 0:00:01\n",
            "   --------------------------------------  296.1/300.9 MB 19.3 MB/s eta 0:00:01\n",
            "   --------------------------------------  296.5/300.9 MB 18.2 MB/s eta 0:00:01\n",
            "   --------------------------------------  297.1/300.9 MB 17.2 MB/s eta 0:00:01\n",
            "   --------------------------------------  298.2/300.9 MB 18.2 MB/s eta 0:00:01\n",
            "   --------------------------------------  299.3/300.9 MB 17.7 MB/s eta 0:00:01\n",
            "   --------------------------------------  300.2/300.9 MB 18.2 MB/s eta 0:00:01\n",
            "   --------------------------------------  300.9/300.9 MB 18.2 MB/s eta 0:00:01\n",
            "   --------------------------------------  300.9/300.9 MB 18.2 MB/s eta 0:00:01\n",
            "   --------------------------------------  300.9/300.9 MB 18.2 MB/s eta 0:00:01\n",
            "   --------------------------------------  300.9/300.9 MB 18.2 MB/s eta 0:00:01\n",
            "   --------------------------------------  300.9/300.9 MB 18.2 MB/s eta 0:00:01\n",
            "   --------------------------------------  300.9/300.9 MB 18.2 MB/s eta 0:00:01\n",
            "   --------------------------------------  300.9/300.9 MB 18.2 MB/s eta 0:00:01\n",
            "   --------------------------------------  300.9/300.9 MB 18.2 MB/s eta 0:00:01\n",
            "   --------------------------------------  300.9/300.9 MB 18.2 MB/s eta 0:00:01\n",
            "   ---------------------------------------- 300.9/300.9 MB 9.0 MB/s eta 0:00:00\n",
            "Downloading absl_py-2.0.0-py3-none-any.whl (130 kB)\n",
            "   ---------------------------------------- 0.0/130.2 kB ? eta -:--:--\n",
            "   ---------------------------------------- 130.2/130.2 kB 7.5 MB/s eta 0:00:00\n",
            "Downloading flatbuffers-23.5.26-py2.py3-none-any.whl (26 kB)\n",
            "Downloading grpcio-1.59.3-cp311-cp311-win_amd64.whl (3.7 MB)\n",
            "   ---------------------------------------- 0.0/3.7 MB ? eta -:--:--\n",
            "   ---- ----------------------------------- 0.4/3.7 MB 13.5 MB/s eta 0:00:01\n",
            "   --------------- ------------------------ 1.5/3.7 MB 15.5 MB/s eta 0:00:01\n",
            "   -------------------------- ------------- 2.4/3.7 MB 19.5 MB/s eta 0:00:01\n",
            "   ---------------------------------------  3.6/3.7 MB 19.1 MB/s eta 0:00:01\n",
            "   ---------------------------------------- 3.7/3.7 MB 18.0 MB/s eta 0:00:00\n",
            "Downloading h5py-3.10.0-cp311-cp311-win_amd64.whl (2.7 MB)\n",
            "   ---------------------------------------- 0.0/2.7 MB ? eta -:--:--\n",
            "   ---- ----------------------------------- 0.3/2.7 MB 9.9 MB/s eta 0:00:01\n",
            "   ------------- -------------------------- 0.9/2.7 MB 11.4 MB/s eta 0:00:01\n",
            "   ---------------------- ----------------- 1.5/2.7 MB 11.7 MB/s eta 0:00:01\n",
            "   -------------------------------------- - 2.6/2.7 MB 16.5 MB/s eta 0:00:01\n",
            "   ---------------------------------------- 2.7/2.7 MB 14.2 MB/s eta 0:00:00\n",
            "Downloading keras-2.15.0-py3-none-any.whl (1.7 MB)\n",
            "   ---------------------------------------- 0.0/1.7 MB ? eta -:--:--\n",
            "   ------------ --------------------------- 0.5/1.7 MB 10.9 MB/s eta 0:00:01\n",
            "   ------------------------------------ --- 1.5/1.7 MB 16.3 MB/s eta 0:00:01\n",
            "   ---------------------------------------- 1.7/1.7 MB 13.6 MB/s eta 0:00:00\n",
            "Downloading libclang-16.0.6-py2.py3-none-win_amd64.whl (24.4 MB)\n",
            "   ---------------------------------------- 0.0/24.4 MB ? eta -:--:--\n",
            "   - -------------------------------------- 0.8/24.4 MB 17.0 MB/s eta 0:00:02\n",
            "   --- ------------------------------------ 2.0/24.4 MB 20.8 MB/s eta 0:00:02\n",
            "   ----- ---------------------------------- 3.2/24.4 MB 22.4 MB/s eta 0:00:01\n",
            "   ------ --------------------------------- 4.2/24.4 MB 22.4 MB/s eta 0:00:01\n",
            "   -------- ------------------------------- 5.4/24.4 MB 21.6 MB/s eta 0:00:01\n",
            "   ---------- ----------------------------- 6.4/24.4 MB 22.8 MB/s eta 0:00:01\n",
            "   ------------ --------------------------- 7.7/24.4 MB 22.2 MB/s eta 0:00:01\n",
            "   -------------- ------------------------- 8.8/24.4 MB 22.4 MB/s eta 0:00:01\n",
            "   ---------------- ----------------------- 9.8/24.4 MB 22.5 MB/s eta 0:00:01\n",
            "   ----------------- ---------------------- 10.7/24.4 MB 21.1 MB/s eta 0:00:01\n",
            "   ------------------ --------------------- 11.4/24.4 MB 21.8 MB/s eta 0:00:01\n",
            "   -------------------- ------------------- 12.5/24.4 MB 21.8 MB/s eta 0:00:01\n",
            "   ---------------------- ----------------- 13.5/24.4 MB 21.8 MB/s eta 0:00:01\n",
            "   ----------------------- ---------------- 14.6/24.4 MB 21.8 MB/s eta 0:00:01\n",
            "   ------------------------- -------------- 15.7/24.4 MB 21.8 MB/s eta 0:00:01\n",
            "   -------------------------- ------------- 16.4/24.4 MB 21.1 MB/s eta 0:00:01\n",
            "   ---------------------------- ----------- 17.2/24.4 MB 20.5 MB/s eta 0:00:01\n",
            "   ----------------------------- ---------- 18.1/24.4 MB 19.9 MB/s eta 0:00:01\n",
            "   ------------------------------- -------- 19.2/24.4 MB 20.5 MB/s eta 0:00:01\n",
            "   --------------------------------- ------ 20.3/24.4 MB 20.5 MB/s eta 0:00:01\n",
            "   ---------------------------------- ----- 21.3/24.4 MB 20.5 MB/s eta 0:00:01\n",
            "   ------------------------------------ --- 22.2/24.4 MB 20.5 MB/s eta 0:00:01\n",
            "   ------------------------------------- -- 23.0/24.4 MB 19.8 MB/s eta 0:00:01\n",
            "   -------------------------------------- - 23.8/24.4 MB 19.3 MB/s eta 0:00:01\n",
            "   ---------------------------------------  24.4/24.4 MB 19.3 MB/s eta 0:00:01\n",
            "   ---------------------------------------- 24.4/24.4 MB 17.7 MB/s eta 0:00:00\n",
            "Downloading ml_dtypes-0.2.0-cp311-cp311-win_amd64.whl (938 kB)\n",
            "   ---------------------------------------- 0.0/938.7 kB ? eta -:--:--\n",
            "   -------------------------- ------------ 645.1/938.7 kB 13.8 MB/s eta 0:00:01\n",
            "   --------------------------------------- 938.7/938.7 kB 11.9 MB/s eta 0:00:00\n",
            "Downloading tensorboard-2.15.1-py3-none-any.whl (5.5 MB)\n",
            "   ---------------------------------------- 0.0/5.5 MB ? eta -:--:--\n",
            "   --- ------------------------------------ 0.5/5.5 MB 14.5 MB/s eta 0:00:01\n",
            "   --------- ------------------------------ 1.3/5.5 MB 16.4 MB/s eta 0:00:01\n",
            "   ---------------- ----------------------- 2.2/5.5 MB 17.9 MB/s eta 0:00:01\n",
            "   ---------------------- ----------------- 3.2/5.5 MB 18.3 MB/s eta 0:00:01\n",
            "   ---------------------------- ----------- 3.9/5.5 MB 17.8 MB/s eta 0:00:01\n",
            "   ------------------------------------ --- 5.1/5.5 MB 19.0 MB/s eta 0:00:01\n",
            "   ---------------------------------------- 5.5/5.5 MB 17.7 MB/s eta 0:00:00\n",
            "Downloading protobuf-4.23.4-cp310-abi3-win_amd64.whl (422 kB)\n",
            "   ---------------------------------------- 0.0/422.5 kB ? eta -:--:--\n",
            "   --------------------------------------- 422.5/422.5 kB 27.5 MB/s eta 0:00:00\n",
            "Downloading tensorflow_estimator-2.15.0-py2.py3-none-any.whl (441 kB)\n",
            "   ---------------------------------------- 0.0/442.0 kB ? eta -:--:--\n",
            "   --------------------------------------- 442.0/442.0 kB 28.8 MB/s eta 0:00:00\n",
            "Downloading typing_extensions-4.8.0-py3-none-any.whl (31 kB)\n",
            "Downloading wrapt-1.14.1-cp311-cp311-win_amd64.whl (35 kB)\n",
            "Downloading google_auth-2.23.4-py2.py3-none-any.whl (183 kB)\n",
            "   ---------------------------------------- 0.0/183.3 kB ? eta -:--:--\n",
            "   --------------------------------------- 183.3/183.3 kB 11.5 MB/s eta 0:00:00\n",
            "Downloading google_auth_oauthlib-1.1.0-py2.py3-none-any.whl (19 kB)\n",
            "Downloading Markdown-3.5.1-py3-none-any.whl (102 kB)\n",
            "   ---------------------------------------- 0.0/102.2 kB ? eta -:--:--\n",
            "   ---------------------------------------- 102.2/102.2 kB ? eta 0:00:00\n",
            "Downloading tensorboard_data_server-0.7.2-py3-none-any.whl (2.4 kB)\n",
            "Downloading werkzeug-3.0.1-py3-none-any.whl (226 kB)\n",
            "   ---------------------------------------- 0.0/226.7 kB ? eta -:--:--\n",
            "   --------------------------------------- 226.7/226.7 kB 13.5 MB/s eta 0:00:00\n",
            "Downloading wheel-0.41.3-py3-none-any.whl (65 kB)\n",
            "   ---------------------------------------- 0.0/65.8 kB ? eta -:--:--\n",
            "   ---------------------------------------- 65.8/65.8 kB 3.5 MB/s eta 0:00:00\n",
            "Downloading cachetools-5.3.2-py3-none-any.whl (9.3 kB)\n",
            "Downloading MarkupSafe-2.1.3-cp311-cp311-win_amd64.whl (17 kB)\n",
            "Downloading pyasn1-0.5.1-py2.py3-none-any.whl (84 kB)\n",
            "   ---------------------------------------- 0.0/84.9 kB ? eta -:--:--\n",
            "   ---------------------------------------- 84.9/84.9 kB ? eta 0:00:00\n",
            "Installing collected packages: libclang, flatbuffers, wrapt, wheel, typing-extensions, termcolor, tensorflow-io-gcs-filesystem, tensorflow-estimator, tensorboard-data-server, pyasn1, protobuf, opt-einsum, oauthlib, ml-dtypes, MarkupSafe, markdown, keras, h5py, grpcio, google-pasta, gast, cachetools, absl-py, werkzeug, rsa, requests-oauthlib, pyasn1-modules, astunparse, google-auth, google-auth-oauthlib, tensorboard, tensorflow-intel, tensorflow\n",
            "Successfully installed MarkupSafe-2.1.3 absl-py-2.0.0 astunparse-1.6.3 cachetools-5.3.2 flatbuffers-23.5.26 gast-0.5.4 google-auth-2.23.4 google-auth-oauthlib-1.1.0 google-pasta-0.2.0 grpcio-1.59.3 h5py-3.10.0 keras-2.15.0 libclang-16.0.6 markdown-3.5.1 ml-dtypes-0.2.0 oauthlib-3.2.2 opt-einsum-3.3.0 protobuf-4.23.4 pyasn1-0.5.1 pyasn1-modules-0.3.0 requests-oauthlib-1.3.1 rsa-4.9 tensorboard-2.15.1 tensorboard-data-server-0.7.2 tensorflow-2.15.0 tensorflow-estimator-2.15.0 tensorflow-intel-2.15.0 tensorflow-io-gcs-filesystem-0.31.0 termcolor-2.3.0 typing-extensions-4.8.0 werkzeug-3.0.1 wheel-0.41.3 wrapt-1.14.1\n",
            "Note: you may need to restart the kernel to use updated packages.\n"
          ]
        },
        {
          "name": "stderr",
          "output_type": "stream",
          "text": [
            "\n",
            "[notice] A new release of pip is available: 23.2.1 -> 23.3.1\n",
            "[notice] To update, run: python.exe -m pip install --upgrade pip\n"
          ]
        },
        {
          "name": "stdout",
          "output_type": "stream",
          "text": [
            "Defaulting to user installation because normal site-packages is not writeable\n",
            "Requirement already satisfied: keras in c:\\users\\disrct\\appdata\\roaming\\python\\python311\\site-packages (2.15.0)\n",
            "Note: you may need to restart the kernel to use updated packages.\n"
          ]
        },
        {
          "name": "stderr",
          "output_type": "stream",
          "text": [
            "\n",
            "[notice] A new release of pip is available: 23.2.1 -> 23.3.1\n",
            "[notice] To update, run: python.exe -m pip install --upgrade pip\n"
          ]
        }
      ],
      "source": [
        "%pip install tensorflow\n",
        "%pip install keras"
      ]
    },
    {
      "cell_type": "code",
      "execution_count": 37,
      "metadata": {
        "id": "K8mLJWHwwn2E"
      },
      "outputs": [],
      "source": [
        "from keras import models\n",
        "from keras import layers\n",
        "from keras import activations\n",
        "from keras import initializers\n",
        "from keras import regularizers\n",
        "from keras import optimizers\n",
        "from keras import losses\n",
        "from keras import metrics\n",
        "from keras import callbacks\n",
        "from keras.preprocessing import image"
      ]
    },
    {
      "cell_type": "code",
      "execution_count": 38,
      "metadata": {
        "id": "Vn_FN2Y-xJgw"
      },
      "outputs": [],
      "source": [
        "model = models.Sequential()\n",
        "\n",
        "model.add(layers.Conv2D(\n",
        "    32, (5, 5),\n",
        "    input_shape = (64, 64, 3),\n",
        "    activation = 'relu'\n",
        "))\n",
        "model.add(layers.MaxPooling2D(\n",
        "    pool_size = (2, 2)\n",
        "))"
      ]
    },
    {
      "cell_type": "code",
      "execution_count": 39,
      "metadata": {
        "id": "l_c1IryvzU-D"
      },
      "outputs": [],
      "source": [
        "model.add(layers.Conv2D(\n",
        "    16, (5, 5),\n",
        "    input_shape = (30, 30, 3),\n",
        "    activation = 'relu'\n",
        "))\n",
        "model.add(layers.MaxPooling2D(\n",
        "    pool_size = (2, 2)\n",
        "))"
      ]
    },
    {
      "cell_type": "code",
      "execution_count": 40,
      "metadata": {
        "id": "09lazt7K2nAk"
      },
      "outputs": [],
      "source": [
        "model.add(layers.Flatten())\n",
        "\n",
        "model.add(layers.Dense(256))\n",
        "\n",
        "model.add(layers.Dropout(0.2))\n",
        "model.add(layers.Activation(activations.softmax))"
      ]
    },
    {
      "cell_type": "code",
      "execution_count": 41,
      "metadata": {
        "id": "nca9sICGQZRB"
      },
      "outputs": [],
      "source": [
        "model.add(layers.Dense(64))\n",
        "model.add(layers.Activation(activations.relu))\n",
        "model.add(layers.BatchNormalization())\n",
        "\n",
        "\n",
        "model.add(layers.Dense(64))\n",
        "model.add(layers.Activation(activations.relu))\n",
        "\n",
        "model.add(layers.Dense(2))\n",
        "model.add(layers.Activation(activations.softmax))"
      ]
    },
    {
      "cell_type": "code",
      "execution_count": 42,
      "metadata": {
        "id": "ANu9Dwl4Q_Oo"
      },
      "outputs": [],
      "source": [
        "model.compile(\n",
        "    optimizer = optimizers.Adam(),\n",
        "    loss = losses.BinaryCrossentropy(),\n",
        "    metrics=[metrics.Accuracy(), metrics.Precision()]\n",
        ")"
      ]
    },
    {
      "cell_type": "code",
      "execution_count": 43,
      "metadata": {
        "id": "69rmvrnOTfNh"
      },
      "outputs": [],
      "source": [
        "dataGen = image.ImageDataGenerator(\n",
        "    rescale = 1.0/255,\n",
        "    shear_range = 0.2,\n",
        "    zoom_range = 0.2,\n",
        "    horizontal_flip = True,\n",
        "    vertical_flip = False,\n",
        "    validation_split = 0.2\n",
        ")"
      ]
    },
    {
      "cell_type": "code",
      "execution_count": 44,
      "metadata": {
        "id": "vqbuHxfHVWRI"
      },
      "outputs": [
        {
          "name": "stdout",
          "output_type": "stream",
          "text": [
            "Found 19995 images belonging to 2 classes.\n",
            "Found 4997 images belonging to 2 classes.\n"
          ]
        }
      ],
      "source": [
        "X_train = dataGen.flow_from_directory(\n",
        "    './PetImages',\n",
        "    target_size = (64, 64),\n",
        "    batch_size = 32,\n",
        "    class_mode = 'categorical',\n",
        "    subset = 'training'\n",
        ")\n",
        "\n",
        "X_tests = dataGen.flow_from_directory(\n",
        "    './PetImages',\n",
        "    target_size = (64, 64),\n",
        "    batch_size = 32,\n",
        "    class_mode = 'categorical',\n",
        "    subset = 'validation'\n",
        ")"
      ]
    },
    {
      "cell_type": "code",
      "execution_count": 45,
      "metadata": {},
      "outputs": [],
      "source": [
        "total_data = 19999\n",
        "batch_size = 32"
      ]
    },
    {
      "cell_type": "code",
      "execution_count": 47,
      "metadata": {
        "id": "XAZ6pvbfWFMw"
      },
      "outputs": [
        {
          "name": "stdout",
          "output_type": "stream",
          "text": [
            "Epoch 1/50\n",
            "194/624 [========>.....................] - ETA: 25s - loss: 0.6838 - accuracy: 0.0000e+00 - precision_2: 0.5606"
          ]
        },
        {
          "name": "stderr",
          "output_type": "stream",
          "text": [
            "C:\\Users\\disrct\\AppData\\Roaming\\Python\\Python311\\site-packages\\PIL\\TiffImagePlugin.py:866: UserWarning: Truncated File Read\n",
            "  warnings.warn(str(msg))\n"
          ]
        },
        {
          "name": "stdout",
          "output_type": "stream",
          "text": [
            "625/624 [==============================] - ETA: 0s - loss: 0.6427 - accuracy: 0.0000e+00 - precision_2: 0.6211INFO:tensorflow:Assets written to: model.01h5\\assets\n"
          ]
        },
        {
          "name": "stderr",
          "output_type": "stream",
          "text": [
            "INFO:tensorflow:Assets written to: model.01h5\\assets\n"
          ]
        },
        {
          "name": "stdout",
          "output_type": "stream",
          "text": [
            "624/624 [==============================] - 41s 65ms/step - loss: 0.6427 - accuracy: 0.0000e+00 - precision_2: 0.6211 - val_loss: 0.6472 - val_accuracy: 0.0000e+00 - val_precision_2: 0.6141\n",
            "Epoch 2/50\n",
            " 65/624 [==>...........................] - ETA: 32s - loss: 0.5945 - accuracy: 0.0000e+00 - precision_2: 0.6880"
          ]
        },
        {
          "name": "stderr",
          "output_type": "stream",
          "text": [
            "C:\\Users\\disrct\\AppData\\Roaming\\Python\\Python311\\site-packages\\PIL\\TiffImagePlugin.py:866: UserWarning: Truncated File Read\n",
            "  warnings.warn(str(msg))\n"
          ]
        },
        {
          "name": "stdout",
          "output_type": "stream",
          "text": [
            "625/624 [==============================] - ETA: 0s - loss: 0.5682 - accuracy: 0.0000e+00 - precision_2: 0.7030INFO:tensorflow:Assets written to: model.02h5\\assets\n"
          ]
        },
        {
          "name": "stderr",
          "output_type": "stream",
          "text": [
            "INFO:tensorflow:Assets written to: model.02h5\\assets\n"
          ]
        },
        {
          "name": "stdout",
          "output_type": "stream",
          "text": [
            "624/624 [==============================] - 40s 64ms/step - loss: 0.5682 - accuracy: 0.0000e+00 - precision_2: 0.7030 - val_loss: 0.5393 - val_accuracy: 0.0000e+00 - val_precision_2: 0.7297\n",
            "Epoch 3/50\n",
            "346/624 [===============>..............] - ETA: 16s - loss: 0.5290 - accuracy: 0.0000e+00 - precision_2: 0.7331"
          ]
        },
        {
          "name": "stderr",
          "output_type": "stream",
          "text": [
            "C:\\Users\\disrct\\AppData\\Roaming\\Python\\Python311\\site-packages\\PIL\\TiffImagePlugin.py:866: UserWarning: Truncated File Read\n",
            "  warnings.warn(str(msg))\n"
          ]
        },
        {
          "name": "stdout",
          "output_type": "stream",
          "text": [
            "625/624 [==============================] - ETA: 0s - loss: 0.5193 - accuracy: 0.0000e+00 - precision_2: 0.7423INFO:tensorflow:Assets written to: model.03h5\\assets\n"
          ]
        },
        {
          "name": "stderr",
          "output_type": "stream",
          "text": [
            "INFO:tensorflow:Assets written to: model.03h5\\assets\n"
          ]
        },
        {
          "name": "stdout",
          "output_type": "stream",
          "text": [
            "624/624 [==============================] - 40s 63ms/step - loss: 0.5193 - accuracy: 0.0000e+00 - precision_2: 0.7423 - val_loss: 0.5170 - val_accuracy: 0.0000e+00 - val_precision_2: 0.7440\n",
            "Epoch 4/50\n",
            "458/624 [====================>.........] - ETA: 9s - loss: 0.4931 - accuracy: 0.0000e+00 - precision_2: 0.7614"
          ]
        },
        {
          "name": "stderr",
          "output_type": "stream",
          "text": [
            "C:\\Users\\disrct\\AppData\\Roaming\\Python\\Python311\\site-packages\\PIL\\TiffImagePlugin.py:866: UserWarning: Truncated File Read\n",
            "  warnings.warn(str(msg))\n"
          ]
        },
        {
          "name": "stdout",
          "output_type": "stream",
          "text": [
            "625/624 [==============================] - ETA: 0s - loss: 0.4915 - accuracy: 0.0000e+00 - precision_2: 0.7631INFO:tensorflow:Assets written to: model.04h5\\assets\n"
          ]
        },
        {
          "name": "stderr",
          "output_type": "stream",
          "text": [
            "INFO:tensorflow:Assets written to: model.04h5\\assets\n"
          ]
        },
        {
          "name": "stdout",
          "output_type": "stream",
          "text": [
            "624/624 [==============================] - 40s 63ms/step - loss: 0.4915 - accuracy: 0.0000e+00 - precision_2: 0.7631 - val_loss: 0.5508 - val_accuracy: 0.0000e+00 - val_precision_2: 0.7148\n",
            "Epoch 5/50\n",
            "485/624 [======================>.......] - ETA: 8s - loss: 0.4688 - accuracy: 0.0000e+00 - precision_2: 0.7778"
          ]
        },
        {
          "name": "stderr",
          "output_type": "stream",
          "text": [
            "C:\\Users\\disrct\\AppData\\Roaming\\Python\\Python311\\site-packages\\PIL\\TiffImagePlugin.py:866: UserWarning: Truncated File Read\n",
            "  warnings.warn(str(msg))\n"
          ]
        },
        {
          "name": "stdout",
          "output_type": "stream",
          "text": [
            "625/624 [==============================] - ETA: 0s - loss: 0.4685 - accuracy: 0.0000e+00 - precision_2: 0.7775INFO:tensorflow:Assets written to: model.05h5\\assets\n"
          ]
        },
        {
          "name": "stderr",
          "output_type": "stream",
          "text": [
            "INFO:tensorflow:Assets written to: model.05h5\\assets\n"
          ]
        },
        {
          "name": "stdout",
          "output_type": "stream",
          "text": [
            "624/624 [==============================] - 40s 64ms/step - loss: 0.4685 - accuracy: 0.0000e+00 - precision_2: 0.7775 - val_loss: 0.4770 - val_accuracy: 0.0000e+00 - val_precision_2: 0.7654\n",
            "Epoch 6/50\n",
            " 52/624 [=>............................] - ETA: 33s - loss: 0.4599 - accuracy: 0.0000e+00 - precision_2: 0.7698"
          ]
        },
        {
          "name": "stderr",
          "output_type": "stream",
          "text": [
            "C:\\Users\\disrct\\AppData\\Roaming\\Python\\Python311\\site-packages\\PIL\\TiffImagePlugin.py:866: UserWarning: Truncated File Read\n",
            "  warnings.warn(str(msg))\n"
          ]
        },
        {
          "name": "stdout",
          "output_type": "stream",
          "text": [
            "625/624 [==============================] - ETA: 0s - loss: 0.4531 - accuracy: 0.0000e+00 - precision_2: 0.7839INFO:tensorflow:Assets written to: model.06h5\\assets\n"
          ]
        },
        {
          "name": "stderr",
          "output_type": "stream",
          "text": [
            "INFO:tensorflow:Assets written to: model.06h5\\assets\n"
          ]
        },
        {
          "name": "stdout",
          "output_type": "stream",
          "text": [
            "624/624 [==============================] - 39s 63ms/step - loss: 0.4531 - accuracy: 0.0000e+00 - precision_2: 0.7839 - val_loss: 0.4641 - val_accuracy: 0.0000e+00 - val_precision_2: 0.7798\n",
            "Epoch 7/50\n",
            "197/624 [========>.....................] - ETA: 24s - loss: 0.4317 - accuracy: 0.0000e+00 - precision_2: 0.8004"
          ]
        },
        {
          "name": "stderr",
          "output_type": "stream",
          "text": [
            "C:\\Users\\disrct\\AppData\\Roaming\\Python\\Python311\\site-packages\\PIL\\TiffImagePlugin.py:866: UserWarning: Truncated File Read\n",
            "  warnings.warn(str(msg))\n"
          ]
        },
        {
          "name": "stdout",
          "output_type": "stream",
          "text": [
            "625/624 [==============================] - ETA: 0s - loss: 0.4346 - accuracy: 0.0000e+00 - precision_2: 0.7971INFO:tensorflow:Assets written to: model.07h5\\assets\n"
          ]
        },
        {
          "name": "stderr",
          "output_type": "stream",
          "text": [
            "INFO:tensorflow:Assets written to: model.07h5\\assets\n"
          ]
        },
        {
          "name": "stdout",
          "output_type": "stream",
          "text": [
            "624/624 [==============================] - 39s 62ms/step - loss: 0.4346 - accuracy: 0.0000e+00 - precision_2: 0.7971 - val_loss: 0.5369 - val_accuracy: 0.0000e+00 - val_precision_2: 0.7297\n",
            "Epoch 8/50\n",
            "210/624 [=========>....................] - ETA: 23s - loss: 0.4288 - accuracy: 0.0000e+00 - precision_2: 0.8067"
          ]
        },
        {
          "name": "stderr",
          "output_type": "stream",
          "text": [
            "C:\\Users\\disrct\\AppData\\Roaming\\Python\\Python311\\site-packages\\PIL\\TiffImagePlugin.py:866: UserWarning: Truncated File Read\n",
            "  warnings.warn(str(msg))\n"
          ]
        },
        {
          "name": "stdout",
          "output_type": "stream",
          "text": [
            "624/624 [============================>.] - ETA: 0s - loss: 0.4268 - accuracy: 0.0000e+00 - precision_2: 0.8031INFO:tensorflow:Assets written to: model.08h5\\assets\n"
          ]
        },
        {
          "name": "stderr",
          "output_type": "stream",
          "text": [
            "INFO:tensorflow:Assets written to: model.08h5\\assets\n"
          ]
        },
        {
          "name": "stdout",
          "output_type": "stream",
          "text": [
            "624/624 [==============================] - 38s 61ms/step - loss: 0.4268 - accuracy: 0.0000e+00 - precision_2: 0.8031 - val_loss: 0.6557 - val_accuracy: 0.0000e+00 - val_precision_2: 0.6885\n",
            "Epoch 9/50\n",
            "591/624 [===========================>..] - ETA: 1s - loss: 0.4124 - accuracy: 0.0000e+00 - precision_2: 0.8100"
          ]
        },
        {
          "name": "stderr",
          "output_type": "stream",
          "text": [
            "C:\\Users\\disrct\\AppData\\Roaming\\Python\\Python311\\site-packages\\PIL\\TiffImagePlugin.py:866: UserWarning: Truncated File Read\n",
            "  warnings.warn(str(msg))\n"
          ]
        },
        {
          "name": "stdout",
          "output_type": "stream",
          "text": [
            "625/624 [==============================] - ETA: 0s - loss: 0.4120 - accuracy: 0.0000e+00 - precision_2: 0.8105INFO:tensorflow:Assets written to: model.09h5\\assets\n"
          ]
        },
        {
          "name": "stderr",
          "output_type": "stream",
          "text": [
            "INFO:tensorflow:Assets written to: model.09h5\\assets\n"
          ]
        },
        {
          "name": "stdout",
          "output_type": "stream",
          "text": [
            "624/624 [==============================] - 40s 64ms/step - loss: 0.4120 - accuracy: 0.0000e+00 - precision_2: 0.8105 - val_loss: 0.4474 - val_accuracy: 0.0000e+00 - val_precision_2: 0.7922\n",
            "Epoch 10/50\n",
            "387/624 [=================>............] - ETA: 13s - loss: 0.3947 - accuracy: 0.0000e+00 - precision_2: 0.8246"
          ]
        },
        {
          "name": "stderr",
          "output_type": "stream",
          "text": [
            "C:\\Users\\disrct\\AppData\\Roaming\\Python\\Python311\\site-packages\\PIL\\TiffImagePlugin.py:866: UserWarning: Truncated File Read\n",
            "  warnings.warn(str(msg))\n"
          ]
        },
        {
          "name": "stdout",
          "output_type": "stream",
          "text": [
            "625/624 [==============================] - ETA: 0s - loss: 0.4002 - accuracy: 0.0000e+00 - precision_2: 0.8208INFO:tensorflow:Assets written to: model.10h5\\assets\n"
          ]
        },
        {
          "name": "stderr",
          "output_type": "stream",
          "text": [
            "INFO:tensorflow:Assets written to: model.10h5\\assets\n"
          ]
        },
        {
          "name": "stdout",
          "output_type": "stream",
          "text": [
            "624/624 [==============================] - 40s 63ms/step - loss: 0.4002 - accuracy: 0.0000e+00 - precision_2: 0.8208 - val_loss: 0.4216 - val_accuracy: 0.0000e+00 - val_precision_2: 0.8021\n",
            "Epoch 11/50\n",
            "505/624 [=======================>......] - ETA: 6s - loss: 0.3866 - accuracy: 0.0000e+00 - precision_2: 0.8275"
          ]
        },
        {
          "name": "stderr",
          "output_type": "stream",
          "text": [
            "C:\\Users\\disrct\\AppData\\Roaming\\Python\\Python311\\site-packages\\PIL\\TiffImagePlugin.py:866: UserWarning: Truncated File Read\n",
            "  warnings.warn(str(msg))\n"
          ]
        },
        {
          "name": "stdout",
          "output_type": "stream",
          "text": [
            "625/624 [==============================] - ETA: 0s - loss: 0.3882 - accuracy: 0.0000e+00 - precision_2: 0.8268INFO:tensorflow:Assets written to: model.11h5\\assets\n"
          ]
        },
        {
          "name": "stderr",
          "output_type": "stream",
          "text": [
            "INFO:tensorflow:Assets written to: model.11h5\\assets\n"
          ]
        },
        {
          "name": "stdout",
          "output_type": "stream",
          "text": [
            "624/624 [==============================] - 39s 62ms/step - loss: 0.3882 - accuracy: 0.0000e+00 - precision_2: 0.8268 - val_loss: 0.4125 - val_accuracy: 0.0000e+00 - val_precision_2: 0.8085\n",
            "Epoch 12/50\n",
            "149/624 [======>.......................] - ETA: 26s - loss: 0.3558 - accuracy: 0.0000e+00 - precision_2: 0.8387"
          ]
        },
        {
          "name": "stderr",
          "output_type": "stream",
          "text": [
            "C:\\Users\\disrct\\AppData\\Roaming\\Python\\Python311\\site-packages\\PIL\\TiffImagePlugin.py:866: UserWarning: Truncated File Read\n",
            "  warnings.warn(str(msg))\n"
          ]
        },
        {
          "name": "stdout",
          "output_type": "stream",
          "text": [
            "625/624 [==============================] - ETA: 0s - loss: 0.3758 - accuracy: 0.0000e+00 - precision_2: 0.8307INFO:tensorflow:Assets written to: model.12h5\\assets\n"
          ]
        },
        {
          "name": "stderr",
          "output_type": "stream",
          "text": [
            "INFO:tensorflow:Assets written to: model.12h5\\assets\n"
          ]
        },
        {
          "name": "stdout",
          "output_type": "stream",
          "text": [
            "624/624 [==============================] - 38s 61ms/step - loss: 0.3758 - accuracy: 0.0000e+00 - precision_2: 0.8307 - val_loss: 0.4331 - val_accuracy: 0.0000e+00 - val_precision_2: 0.8036\n",
            "Epoch 13/50\n",
            "246/624 [==========>...................] - ETA: 21s - loss: 0.3664 - accuracy: 6.3516e-05 - precision_2: 0.8333"
          ]
        },
        {
          "name": "stderr",
          "output_type": "stream",
          "text": [
            "C:\\Users\\disrct\\AppData\\Roaming\\Python\\Python311\\site-packages\\PIL\\TiffImagePlugin.py:866: UserWarning: Truncated File Read\n",
            "  warnings.warn(str(msg))\n"
          ]
        },
        {
          "name": "stdout",
          "output_type": "stream",
          "text": [
            "625/624 [==============================] - ETA: 0s - loss: 0.3676 - accuracy: 7.5019e-05 - precision_2: 0.8362INFO:tensorflow:Assets written to: model.13h5\\assets\n"
          ]
        },
        {
          "name": "stderr",
          "output_type": "stream",
          "text": [
            "INFO:tensorflow:Assets written to: model.13h5\\assets\n"
          ]
        },
        {
          "name": "stdout",
          "output_type": "stream",
          "text": [
            "624/624 [==============================] - 39s 62ms/step - loss: 0.3676 - accuracy: 7.5019e-05 - precision_2: 0.8362 - val_loss: 0.4431 - val_accuracy: 0.0000e+00 - val_precision_2: 0.7902\n",
            "Epoch 14/50\n",
            "209/624 [=========>....................] - ETA: 23s - loss: 0.3556 - accuracy: 0.0000e+00 - precision_2: 0.8452"
          ]
        },
        {
          "name": "stderr",
          "output_type": "stream",
          "text": [
            "C:\\Users\\disrct\\AppData\\Roaming\\Python\\Python311\\site-packages\\PIL\\TiffImagePlugin.py:866: UserWarning: Truncated File Read\n",
            "  warnings.warn(str(msg))\n"
          ]
        },
        {
          "name": "stdout",
          "output_type": "stream",
          "text": [
            "625/624 [==============================] - ETA: 0s - loss: 0.3520 - accuracy: 0.0000e+00 - precision_2: 0.8467INFO:tensorflow:Assets written to: model.14h5\\assets\n"
          ]
        },
        {
          "name": "stderr",
          "output_type": "stream",
          "text": [
            "INFO:tensorflow:Assets written to: model.14h5\\assets\n"
          ]
        },
        {
          "name": "stdout",
          "output_type": "stream",
          "text": [
            "624/624 [==============================] - 39s 62ms/step - loss: 0.3520 - accuracy: 0.0000e+00 - precision_2: 0.8467 - val_loss: 0.4371 - val_accuracy: 0.0000e+00 - val_precision_2: 0.7937\n",
            "Epoch 15/50\n",
            "323/624 [==============>...............] - ETA: 17s - loss: 0.3364 - accuracy: 0.0000e+00 - precision_2: 0.8528"
          ]
        },
        {
          "name": "stderr",
          "output_type": "stream",
          "text": [
            "C:\\Users\\disrct\\AppData\\Roaming\\Python\\Python311\\site-packages\\PIL\\TiffImagePlugin.py:866: UserWarning: Truncated File Read\n",
            "  warnings.warn(str(msg))\n"
          ]
        },
        {
          "name": "stdout",
          "output_type": "stream",
          "text": [
            "625/624 [==============================] - ETA: 0s - loss: 0.3423 - accuracy: 2.5006e-05 - precision_2: 0.8501INFO:tensorflow:Assets written to: model.15h5\\assets\n"
          ]
        },
        {
          "name": "stderr",
          "output_type": "stream",
          "text": [
            "INFO:tensorflow:Assets written to: model.15h5\\assets\n"
          ]
        },
        {
          "name": "stdout",
          "output_type": "stream",
          "text": [
            "624/624 [==============================] - 40s 63ms/step - loss: 0.3423 - accuracy: 2.5006e-05 - precision_2: 0.8501 - val_loss: 0.5440 - val_accuracy: 0.0000e+00 - val_precision_2: 0.7470\n",
            "Epoch 16/50\n",
            "327/624 [==============>...............] - ETA: 17s - loss: 0.3293 - accuracy: 0.0000e+00 - precision_2: 0.8564"
          ]
        },
        {
          "name": "stderr",
          "output_type": "stream",
          "text": [
            "C:\\Users\\disrct\\AppData\\Roaming\\Python\\Python311\\site-packages\\PIL\\TiffImagePlugin.py:866: UserWarning: Truncated File Read\n",
            "  warnings.warn(str(msg))\n"
          ]
        },
        {
          "name": "stdout",
          "output_type": "stream",
          "text": [
            "625/624 [==============================] - ETA: 0s - loss: 0.3316 - accuracy: 0.0000e+00 - precision_2: 0.8562INFO:tensorflow:Assets written to: model.16h5\\assets\n"
          ]
        },
        {
          "name": "stderr",
          "output_type": "stream",
          "text": [
            "INFO:tensorflow:Assets written to: model.16h5\\assets\n"
          ]
        },
        {
          "name": "stdout",
          "output_type": "stream",
          "text": [
            "624/624 [==============================] - 40s 64ms/step - loss: 0.3316 - accuracy: 0.0000e+00 - precision_2: 0.8562 - val_loss: 0.3940 - val_accuracy: 0.0000e+00 - val_precision_2: 0.8214\n",
            "Epoch 17/50\n",
            "134/624 [=====>........................] - ETA: 29s - loss: 0.3123 - accuracy: 0.0000e+00 - precision_2: 0.8667"
          ]
        },
        {
          "name": "stderr",
          "output_type": "stream",
          "text": [
            "C:\\Users\\disrct\\AppData\\Roaming\\Python\\Python311\\site-packages\\PIL\\TiffImagePlugin.py:866: UserWarning: Truncated File Read\n",
            "  warnings.warn(str(msg))\n"
          ]
        },
        {
          "name": "stdout",
          "output_type": "stream",
          "text": [
            "625/624 [==============================] - ETA: 0s - loss: 0.3228 - accuracy: 5.0013e-05 - precision_2: 0.8605INFO:tensorflow:Assets written to: model.17h5\\assets\n"
          ]
        },
        {
          "name": "stderr",
          "output_type": "stream",
          "text": [
            "INFO:tensorflow:Assets written to: model.17h5\\assets\n"
          ]
        },
        {
          "name": "stdout",
          "output_type": "stream",
          "text": [
            "624/624 [==============================] - 40s 64ms/step - loss: 0.3228 - accuracy: 5.0013e-05 - precision_2: 0.8605 - val_loss: 0.4040 - val_accuracy: 0.0000e+00 - val_precision_2: 0.8244\n",
            "Epoch 18/50\n",
            "474/624 [=====================>........] - ETA: 8s - loss: 0.3178 - accuracy: 0.0000e+00 - precision_2: 0.8641"
          ]
        },
        {
          "name": "stderr",
          "output_type": "stream",
          "text": [
            "C:\\Users\\disrct\\AppData\\Roaming\\Python\\Python311\\site-packages\\PIL\\TiffImagePlugin.py:866: UserWarning: Truncated File Read\n",
            "  warnings.warn(str(msg))\n"
          ]
        },
        {
          "name": "stdout",
          "output_type": "stream",
          "text": [
            "625/624 [==============================] - ETA: 0s - loss: 0.3153 - accuracy: 0.0000e+00 - precision_2: 0.8658INFO:tensorflow:Assets written to: model.18h5\\assets\n"
          ]
        },
        {
          "name": "stderr",
          "output_type": "stream",
          "text": [
            "INFO:tensorflow:Assets written to: model.18h5\\assets\n"
          ]
        },
        {
          "name": "stdout",
          "output_type": "stream",
          "text": [
            "624/624 [==============================] - 38s 61ms/step - loss: 0.3153 - accuracy: 0.0000e+00 - precision_2: 0.8658 - val_loss: 0.4187 - val_accuracy: 0.0000e+00 - val_precision_2: 0.8194\n",
            "Epoch 19/50\n",
            "393/624 [=================>............] - ETA: 13s - loss: 0.2989 - accuracy: 3.5797e-04 - precision_2: 0.8751"
          ]
        },
        {
          "name": "stderr",
          "output_type": "stream",
          "text": [
            "C:\\Users\\disrct\\AppData\\Roaming\\Python\\Python311\\site-packages\\PIL\\TiffImagePlugin.py:866: UserWarning: Truncated File Read\n",
            "  warnings.warn(str(msg))\n"
          ]
        },
        {
          "name": "stdout",
          "output_type": "stream",
          "text": [
            "625/624 [==============================] - ETA: 0s - loss: 0.3022 - accuracy: 2.2506e-04 - precision_2: 0.8728INFO:tensorflow:Assets written to: model.19h5\\assets\n"
          ]
        },
        {
          "name": "stderr",
          "output_type": "stream",
          "text": [
            "INFO:tensorflow:Assets written to: model.19h5\\assets\n"
          ]
        },
        {
          "name": "stdout",
          "output_type": "stream",
          "text": [
            "624/624 [==============================] - 39s 62ms/step - loss: 0.3022 - accuracy: 2.2506e-04 - precision_2: 0.8728 - val_loss: 0.4089 - val_accuracy: 0.0000e+00 - val_precision_2: 0.8214\n",
            "Epoch 20/50\n",
            "493/624 [======================>.......] - ETA: 7s - loss: 0.2973 - accuracy: 2.5363e-04 - precision_2: 0.8738"
          ]
        },
        {
          "name": "stderr",
          "output_type": "stream",
          "text": [
            "C:\\Users\\disrct\\AppData\\Roaming\\Python\\Python311\\site-packages\\PIL\\TiffImagePlugin.py:866: UserWarning: Truncated File Read\n",
            "  warnings.warn(str(msg))\n"
          ]
        },
        {
          "name": "stdout",
          "output_type": "stream",
          "text": [
            "624/624 [============================>.] - ETA: 0s - loss: 0.2927 - accuracy: 2.0037e-04 - precision_2: 0.8748INFO:tensorflow:Assets written to: model.20h5\\assets\n"
          ]
        },
        {
          "name": "stderr",
          "output_type": "stream",
          "text": [
            "INFO:tensorflow:Assets written to: model.20h5\\assets\n"
          ]
        },
        {
          "name": "stdout",
          "output_type": "stream",
          "text": [
            "624/624 [==============================] - 38s 61ms/step - loss: 0.2926 - accuracy: 2.0005e-04 - precision_2: 0.8748 - val_loss: 0.4224 - val_accuracy: 0.0000e+00 - val_precision_2: 0.8165\n",
            "Epoch 21/50\n",
            "100/624 [===>..........................] - ETA: 29s - loss: 0.2723 - accuracy: 1.5625e-04 - precision_2: 0.8900"
          ]
        },
        {
          "name": "stderr",
          "output_type": "stream",
          "text": [
            "C:\\Users\\disrct\\AppData\\Roaming\\Python\\Python311\\site-packages\\PIL\\TiffImagePlugin.py:866: UserWarning: Truncated File Read\n",
            "  warnings.warn(str(msg))\n"
          ]
        },
        {
          "name": "stdout",
          "output_type": "stream",
          "text": [
            "624/624 [============================>.] - ETA: 0s - loss: 0.2886 - accuracy: 2.0037e-04 - precision_2: 0.8784INFO:tensorflow:Assets written to: model.21h5\\assets\n"
          ]
        },
        {
          "name": "stderr",
          "output_type": "stream",
          "text": [
            "INFO:tensorflow:Assets written to: model.21h5\\assets\n"
          ]
        },
        {
          "name": "stdout",
          "output_type": "stream",
          "text": [
            "624/624 [==============================] - 39s 62ms/step - loss: 0.2887 - accuracy: 2.0005e-04 - precision_2: 0.8784 - val_loss: 0.4248 - val_accuracy: 0.0000e+00 - val_precision_2: 0.7956\n",
            "Epoch 22/50\n",
            "355/624 [================>.............] - ETA: 15s - loss: 0.2665 - accuracy: 3.5227e-04 - precision_2: 0.8900"
          ]
        },
        {
          "name": "stderr",
          "output_type": "stream",
          "text": [
            "C:\\Users\\disrct\\AppData\\Roaming\\Python\\Python311\\site-packages\\PIL\\TiffImagePlugin.py:866: UserWarning: Truncated File Read\n",
            "  warnings.warn(str(msg))\n"
          ]
        },
        {
          "name": "stdout",
          "output_type": "stream",
          "text": [
            "625/624 [==============================] - ETA: 0s - loss: 0.2760 - accuracy: 2.0005e-04 - precision_2: 0.8836INFO:tensorflow:Assets written to: model.22h5\\assets\n"
          ]
        },
        {
          "name": "stderr",
          "output_type": "stream",
          "text": [
            "INFO:tensorflow:Assets written to: model.22h5\\assets\n"
          ]
        },
        {
          "name": "stdout",
          "output_type": "stream",
          "text": [
            "624/624 [==============================] - 38s 62ms/step - loss: 0.2760 - accuracy: 2.0005e-04 - precision_2: 0.8836 - val_loss: 0.4246 - val_accuracy: 9.9206e-04 - val_precision_2: 0.8150\n",
            "Epoch 23/50\n",
            "260/624 [===========>..................] - ETA: 20s - loss: 0.2730 - accuracy: 6.0132e-05 - precision_2: 0.8862"
          ]
        },
        {
          "name": "stderr",
          "output_type": "stream",
          "text": [
            "C:\\Users\\disrct\\AppData\\Roaming\\Python\\Python311\\site-packages\\PIL\\TiffImagePlugin.py:866: UserWarning: Truncated File Read\n",
            "  warnings.warn(str(msg))\n"
          ]
        },
        {
          "name": "stdout",
          "output_type": "stream",
          "text": [
            "625/624 [==============================] - ETA: 0s - loss: 0.2706 - accuracy: 5.0013e-05 - precision_2: 0.8880INFO:tensorflow:Assets written to: model.23h5\\assets\n"
          ]
        },
        {
          "name": "stderr",
          "output_type": "stream",
          "text": [
            "INFO:tensorflow:Assets written to: model.23h5\\assets\n"
          ]
        },
        {
          "name": "stdout",
          "output_type": "stream",
          "text": [
            "624/624 [==============================] - 39s 62ms/step - loss: 0.2706 - accuracy: 5.0013e-05 - precision_2: 0.8880 - val_loss: 0.4415 - val_accuracy: 2.4802e-04 - val_precision_2: 0.8070\n",
            "Epoch 24/50\n",
            "297/624 [=============>................] - ETA: 18s - loss: 0.2574 - accuracy: 1.5783e-04 - precision_2: 0.8959"
          ]
        },
        {
          "name": "stderr",
          "output_type": "stream",
          "text": [
            "C:\\Users\\disrct\\AppData\\Roaming\\Python\\Python311\\site-packages\\PIL\\TiffImagePlugin.py:866: UserWarning: Truncated File Read\n",
            "  warnings.warn(str(msg))\n"
          ]
        },
        {
          "name": "stdout",
          "output_type": "stream",
          "text": [
            "624/624 [============================>.] - ETA: 0s - loss: 0.2684 - accuracy: 1.5028e-04 - precision_2: 0.8912INFO:tensorflow:Assets written to: model.24h5\\assets\n"
          ]
        },
        {
          "name": "stderr",
          "output_type": "stream",
          "text": [
            "INFO:tensorflow:Assets written to: model.24h5\\assets\n"
          ]
        },
        {
          "name": "stdout",
          "output_type": "stream",
          "text": [
            "624/624 [==============================] - 39s 62ms/step - loss: 0.2683 - accuracy: 1.5004e-04 - precision_2: 0.8913 - val_loss: 0.4434 - val_accuracy: 0.0000e+00 - val_precision_2: 0.8165\n",
            "Epoch 25/50\n",
            "345/624 [===============>..............] - ETA: 15s - loss: 0.2554 - accuracy: 0.0000e+00 - precision_2: 0.8947"
          ]
        },
        {
          "name": "stderr",
          "output_type": "stream",
          "text": [
            "C:\\Users\\disrct\\AppData\\Roaming\\Python\\Python311\\site-packages\\PIL\\TiffImagePlugin.py:866: UserWarning: Truncated File Read\n",
            "  warnings.warn(str(msg))\n"
          ]
        },
        {
          "name": "stdout",
          "output_type": "stream",
          "text": [
            "625/624 [==============================] - ETA: 0s - loss: 0.2522 - accuracy: 1.5004e-04 - precision_2: 0.8969INFO:tensorflow:Assets written to: model.25h5\\assets\n"
          ]
        },
        {
          "name": "stderr",
          "output_type": "stream",
          "text": [
            "INFO:tensorflow:Assets written to: model.25h5\\assets\n"
          ]
        },
        {
          "name": "stdout",
          "output_type": "stream",
          "text": [
            "624/624 [==============================] - 39s 62ms/step - loss: 0.2522 - accuracy: 1.5004e-04 - precision_2: 0.8969 - val_loss: 0.4391 - val_accuracy: 0.0000e+00 - val_precision_2: 0.8056\n",
            "Epoch 26/50\n",
            "434/624 [===================>..........] - ETA: 10s - loss: 0.2478 - accuracy: 7.2005e-04 - precision_2: 0.8998"
          ]
        },
        {
          "name": "stderr",
          "output_type": "stream",
          "text": [
            "C:\\Users\\disrct\\AppData\\Roaming\\Python\\Python311\\site-packages\\PIL\\TiffImagePlugin.py:866: UserWarning: Truncated File Read\n",
            "  warnings.warn(str(msg))\n"
          ]
        },
        {
          "name": "stdout",
          "output_type": "stream",
          "text": [
            "625/624 [==============================] - ETA: 0s - loss: 0.2493 - accuracy: 5.7514e-04 - precision_2: 0.8992INFO:tensorflow:Assets written to: model.26h5\\assets\n"
          ]
        },
        {
          "name": "stderr",
          "output_type": "stream",
          "text": [
            "INFO:tensorflow:Assets written to: model.26h5\\assets\n"
          ]
        },
        {
          "name": "stdout",
          "output_type": "stream",
          "text": [
            "624/624 [==============================] - 39s 62ms/step - loss: 0.2493 - accuracy: 5.7514e-04 - precision_2: 0.8992 - val_loss: 0.4580 - val_accuracy: 0.0000e+00 - val_precision_2: 0.8026\n",
            "Epoch 27/50\n",
            "265/624 [===========>..................] - ETA: 20s - loss: 0.2274 - accuracy: 5.8962e-05 - precision_2: 0.9108"
          ]
        },
        {
          "name": "stderr",
          "output_type": "stream",
          "text": [
            "C:\\Users\\disrct\\AppData\\Roaming\\Python\\Python311\\site-packages\\PIL\\TiffImagePlugin.py:866: UserWarning: Truncated File Read\n",
            "  warnings.warn(str(msg))\n"
          ]
        },
        {
          "name": "stdout",
          "output_type": "stream",
          "text": [
            "625/624 [==============================] - ETA: 0s - loss: 0.2349 - accuracy: 1.2503e-04 - precision_2: 0.9068INFO:tensorflow:Assets written to: model.27h5\\assets\n"
          ]
        },
        {
          "name": "stderr",
          "output_type": "stream",
          "text": [
            "INFO:tensorflow:Assets written to: model.27h5\\assets\n"
          ]
        },
        {
          "name": "stdout",
          "output_type": "stream",
          "text": [
            "624/624 [==============================] - 38s 62ms/step - loss: 0.2349 - accuracy: 1.2503e-04 - precision_2: 0.9068 - val_loss: 0.4896 - val_accuracy: 2.4802e-04 - val_precision_2: 0.7966\n",
            "Epoch 28/50\n",
            "204/624 [========>.....................] - ETA: 23s - loss: 0.2370 - accuracy: 3.8297e-04 - precision_2: 0.9032"
          ]
        },
        {
          "name": "stderr",
          "output_type": "stream",
          "text": [
            "C:\\Users\\disrct\\AppData\\Roaming\\Python\\Python311\\site-packages\\PIL\\TiffImagePlugin.py:866: UserWarning: Truncated File Read\n",
            "  warnings.warn(str(msg))\n"
          ]
        },
        {
          "name": "stdout",
          "output_type": "stream",
          "text": [
            "625/624 [==============================] - ETA: 0s - loss: 0.2412 - accuracy: 2.0005e-04 - precision_2: 0.9031INFO:tensorflow:Assets written to: model.28h5\\assets\n"
          ]
        },
        {
          "name": "stderr",
          "output_type": "stream",
          "text": [
            "INFO:tensorflow:Assets written to: model.28h5\\assets\n"
          ]
        },
        {
          "name": "stdout",
          "output_type": "stream",
          "text": [
            "624/624 [==============================] - 38s 61ms/step - loss: 0.2412 - accuracy: 2.0005e-04 - precision_2: 0.9031 - val_loss: 0.4219 - val_accuracy: 0.0000e+00 - val_precision_2: 0.8105\n",
            "Epoch 29/50\n",
            "532/624 [========================>.....] - ETA: 5s - loss: 0.2306 - accuracy: 7.6385e-04 - precision_2: 0.9094"
          ]
        },
        {
          "name": "stderr",
          "output_type": "stream",
          "text": [
            "C:\\Users\\disrct\\AppData\\Roaming\\Python\\Python311\\site-packages\\PIL\\TiffImagePlugin.py:866: UserWarning: Truncated File Read\n",
            "  warnings.warn(str(msg))\n"
          ]
        },
        {
          "name": "stdout",
          "output_type": "stream",
          "text": [
            "625/624 [==============================] - ETA: 0s - loss: 0.2287 - accuracy: 7.7519e-04 - precision_2: 0.9101INFO:tensorflow:Assets written to: model.29h5\\assets\n"
          ]
        },
        {
          "name": "stderr",
          "output_type": "stream",
          "text": [
            "INFO:tensorflow:Assets written to: model.29h5\\assets\n"
          ]
        },
        {
          "name": "stdout",
          "output_type": "stream",
          "text": [
            "624/624 [==============================] - 39s 62ms/step - loss: 0.2287 - accuracy: 7.7519e-04 - precision_2: 0.9101 - val_loss: 0.4559 - val_accuracy: 0.0000e+00 - val_precision_2: 0.8001\n",
            "Epoch 30/50\n",
            " 70/624 [==>...........................] - ETA: 30s - loss: 0.1870 - accuracy: 6.6964e-04 - precision_2: 0.9263"
          ]
        },
        {
          "name": "stderr",
          "output_type": "stream",
          "text": [
            "C:\\Users\\disrct\\AppData\\Roaming\\Python\\Python311\\site-packages\\PIL\\TiffImagePlugin.py:866: UserWarning: Truncated File Read\n",
            "  warnings.warn(str(msg))\n"
          ]
        },
        {
          "name": "stdout",
          "output_type": "stream",
          "text": [
            "625/624 [==============================] - ETA: 0s - loss: 0.2233 - accuracy: 0.0012 - precision_2: 0.9121INFO:tensorflow:Assets written to: model.30h5\\assets\n"
          ]
        },
        {
          "name": "stderr",
          "output_type": "stream",
          "text": [
            "INFO:tensorflow:Assets written to: model.30h5\\assets\n"
          ]
        },
        {
          "name": "stdout",
          "output_type": "stream",
          "text": [
            "624/624 [==============================] - 38s 61ms/step - loss: 0.2233 - accuracy: 0.0012 - precision_2: 0.9121 - val_loss: 0.4813 - val_accuracy: 0.0000e+00 - val_precision_2: 0.7976\n",
            "Epoch 31/50\n",
            "448/624 [====================>.........] - ETA: 9s - loss: 0.2237 - accuracy: 3.4889e-04 - precision_2: 0.9136 "
          ]
        },
        {
          "name": "stderr",
          "output_type": "stream",
          "text": [
            "C:\\Users\\disrct\\AppData\\Roaming\\Python\\Python311\\site-packages\\PIL\\TiffImagePlugin.py:866: UserWarning: Truncated File Read\n",
            "  warnings.warn(str(msg))\n"
          ]
        },
        {
          "name": "stdout",
          "output_type": "stream",
          "text": [
            "625/624 [==============================] - ETA: 0s - loss: 0.2243 - accuracy: 5.0013e-04 - precision_2: 0.9133INFO:tensorflow:Assets written to: model.31h5\\assets\n"
          ]
        },
        {
          "name": "stderr",
          "output_type": "stream",
          "text": [
            "INFO:tensorflow:Assets written to: model.31h5\\assets\n"
          ]
        },
        {
          "name": "stdout",
          "output_type": "stream",
          "text": [
            "624/624 [==============================] - 39s 62ms/step - loss: 0.2243 - accuracy: 5.0013e-04 - precision_2: 0.9133 - val_loss: 0.4269 - val_accuracy: 0.0000e+00 - val_precision_2: 0.8175\n",
            "Epoch 32/50\n",
            "619/624 [============================>.] - ETA: 0s - loss: 0.2158 - accuracy: 5.5547e-04 - precision_2: 0.9145"
          ]
        },
        {
          "name": "stderr",
          "output_type": "stream",
          "text": [
            "C:\\Users\\disrct\\AppData\\Roaming\\Python\\Python311\\site-packages\\PIL\\TiffImagePlugin.py:866: UserWarning: Truncated File Read\n",
            "  warnings.warn(str(msg))\n"
          ]
        },
        {
          "name": "stdout",
          "output_type": "stream",
          "text": [
            "625/624 [==============================] - ETA: 0s - loss: 0.2155 - accuracy: 5.5014e-04 - precision_2: 0.9146INFO:tensorflow:Assets written to: model.32h5\\assets\n"
          ]
        },
        {
          "name": "stderr",
          "output_type": "stream",
          "text": [
            "INFO:tensorflow:Assets written to: model.32h5\\assets\n"
          ]
        },
        {
          "name": "stdout",
          "output_type": "stream",
          "text": [
            "624/624 [==============================] - 38s 61ms/step - loss: 0.2155 - accuracy: 5.5014e-04 - precision_2: 0.9146 - val_loss: 0.4234 - val_accuracy: 0.0000e+00 - val_precision_2: 0.8239\n",
            "Epoch 33/50\n",
            "216/624 [=========>....................] - ETA: 22s - loss: 0.2003 - accuracy: 3.6169e-04 - precision_2: 0.9219"
          ]
        },
        {
          "name": "stderr",
          "output_type": "stream",
          "text": [
            "C:\\Users\\disrct\\AppData\\Roaming\\Python\\Python311\\site-packages\\PIL\\TiffImagePlugin.py:866: UserWarning: Truncated File Read\n",
            "  warnings.warn(str(msg))\n"
          ]
        },
        {
          "name": "stdout",
          "output_type": "stream",
          "text": [
            "625/624 [==============================] - ETA: 0s - loss: 0.2078 - accuracy: 0.0013 - precision_2: 0.9172INFO:tensorflow:Assets written to: model.33h5\\assets\n"
          ]
        },
        {
          "name": "stderr",
          "output_type": "stream",
          "text": [
            "INFO:tensorflow:Assets written to: model.33h5\\assets\n"
          ]
        },
        {
          "name": "stdout",
          "output_type": "stream",
          "text": [
            "624/624 [==============================] - 39s 62ms/step - loss: 0.2078 - accuracy: 0.0013 - precision_2: 0.9172 - val_loss: 0.4569 - val_accuracy: 0.0000e+00 - val_precision_2: 0.7941\n",
            "Epoch 34/50\n",
            "171/624 [=======>......................] - ETA: 26s - loss: 0.2012 - accuracy: 0.0017 - precision_2: 0.9214"
          ]
        },
        {
          "name": "stderr",
          "output_type": "stream",
          "text": [
            "C:\\Users\\disrct\\AppData\\Roaming\\Python\\Python311\\site-packages\\PIL\\TiffImagePlugin.py:866: UserWarning: Truncated File Read\n",
            "  warnings.warn(str(msg))\n"
          ]
        },
        {
          "name": "stdout",
          "output_type": "stream",
          "text": [
            "624/624 [============================>.] - ETA: 0s - loss: 0.2046 - accuracy: 9.2671e-04 - precision_2: 0.9209INFO:tensorflow:Assets written to: model.34h5\\assets\n"
          ]
        },
        {
          "name": "stderr",
          "output_type": "stream",
          "text": [
            "INFO:tensorflow:Assets written to: model.34h5\\assets\n"
          ]
        },
        {
          "name": "stdout",
          "output_type": "stream",
          "text": [
            "624/624 [==============================] - 39s 63ms/step - loss: 0.2047 - accuracy: 9.2523e-04 - precision_2: 0.9209 - val_loss: 0.4303 - val_accuracy: 0.0000e+00 - val_precision_2: 0.8244\n",
            "Epoch 35/50\n",
            "400/624 [==================>...........] - ETA: 12s - loss: 0.2032 - accuracy: 9.7694e-04 - precision_2: 0.9218"
          ]
        },
        {
          "name": "stderr",
          "output_type": "stream",
          "text": [
            "C:\\Users\\disrct\\AppData\\Roaming\\Python\\Python311\\site-packages\\PIL\\TiffImagePlugin.py:866: UserWarning: Truncated File Read\n",
            "  warnings.warn(str(msg))\n"
          ]
        },
        {
          "name": "stdout",
          "output_type": "stream",
          "text": [
            "625/624 [==============================] - ETA: 0s - loss: 0.2036 - accuracy: 6.7517e-04 - precision_2: 0.9216INFO:tensorflow:Assets written to: model.35h5\\assets\n"
          ]
        },
        {
          "name": "stderr",
          "output_type": "stream",
          "text": [
            "INFO:tensorflow:Assets written to: model.35h5\\assets\n"
          ]
        },
        {
          "name": "stdout",
          "output_type": "stream",
          "text": [
            "624/624 [==============================] - 40s 63ms/step - loss: 0.2036 - accuracy: 6.7517e-04 - precision_2: 0.9216 - val_loss: 0.4853 - val_accuracy: 2.4802e-04 - val_precision_2: 0.8100\n",
            "Epoch 36/50\n",
            "586/624 [===========================>..] - ETA: 2s - loss: 0.1948 - accuracy: 0.0011 - precision_2: 0.9251"
          ]
        },
        {
          "name": "stderr",
          "output_type": "stream",
          "text": [
            "C:\\Users\\disrct\\AppData\\Roaming\\Python\\Python311\\site-packages\\PIL\\TiffImagePlugin.py:866: UserWarning: Truncated File Read\n",
            "  warnings.warn(str(msg))\n"
          ]
        },
        {
          "name": "stdout",
          "output_type": "stream",
          "text": [
            "625/624 [==============================] - ETA: 0s - loss: 0.1945 - accuracy: 0.0011 - precision_2: 0.9252INFO:tensorflow:Assets written to: model.36h5\\assets\n"
          ]
        },
        {
          "name": "stderr",
          "output_type": "stream",
          "text": [
            "INFO:tensorflow:Assets written to: model.36h5\\assets\n"
          ]
        },
        {
          "name": "stdout",
          "output_type": "stream",
          "text": [
            "624/624 [==============================] - 40s 63ms/step - loss: 0.1945 - accuracy: 0.0011 - precision_2: 0.9252 - val_loss: 0.4816 - val_accuracy: 0.0000e+00 - val_precision_2: 0.8120\n",
            "Epoch 37/50\n",
            "295/624 [=============>................] - ETA: 18s - loss: 0.2030 - accuracy: 0.0010 - precision_2: 0.9200 "
          ]
        },
        {
          "name": "stderr",
          "output_type": "stream",
          "text": [
            "C:\\Users\\disrct\\AppData\\Roaming\\Python\\Python311\\site-packages\\PIL\\TiffImagePlugin.py:866: UserWarning: Truncated File Read\n",
            "  warnings.warn(str(msg))\n"
          ]
        },
        {
          "name": "stdout",
          "output_type": "stream",
          "text": [
            "625/624 [==============================] - ETA: 0s - loss: 0.1998 - accuracy: 9.2523e-04 - precision_2: 0.9214INFO:tensorflow:Assets written to: model.37h5\\assets\n"
          ]
        },
        {
          "name": "stderr",
          "output_type": "stream",
          "text": [
            "INFO:tensorflow:Assets written to: model.37h5\\assets\n"
          ]
        },
        {
          "name": "stdout",
          "output_type": "stream",
          "text": [
            "624/624 [==============================] - 39s 62ms/step - loss: 0.1998 - accuracy: 9.2523e-04 - precision_2: 0.9214 - val_loss: 0.4701 - val_accuracy: 0.0000e+00 - val_precision_2: 0.8011\n",
            "Epoch 38/50\n",
            "598/624 [===========================>..] - ETA: 1s - loss: 0.1890 - accuracy: 8.1020e-04 - precision_2: 0.9272"
          ]
        },
        {
          "name": "stderr",
          "output_type": "stream",
          "text": [
            "C:\\Users\\disrct\\AppData\\Roaming\\Python\\Python311\\site-packages\\PIL\\TiffImagePlugin.py:866: UserWarning: Truncated File Read\n",
            "  warnings.warn(str(msg))\n"
          ]
        },
        {
          "name": "stdout",
          "output_type": "stream",
          "text": [
            "625/624 [==============================] - ETA: 0s - loss: 0.1889 - accuracy: 7.7519e-04 - precision_2: 0.9273INFO:tensorflow:Assets written to: model.38h5\\assets\n"
          ]
        },
        {
          "name": "stderr",
          "output_type": "stream",
          "text": [
            "INFO:tensorflow:Assets written to: model.38h5\\assets\n"
          ]
        },
        {
          "name": "stdout",
          "output_type": "stream",
          "text": [
            "624/624 [==============================] - 39s 62ms/step - loss: 0.1889 - accuracy: 7.7519e-04 - precision_2: 0.9273 - val_loss: 0.4781 - val_accuracy: 0.0000e+00 - val_precision_2: 0.8130\n",
            "Epoch 39/50\n",
            "576/624 [==========================>...] - ETA: 2s - loss: 0.1847 - accuracy: 0.0014 - precision_2: 0.9296"
          ]
        },
        {
          "name": "stderr",
          "output_type": "stream",
          "text": [
            "C:\\Users\\disrct\\AppData\\Roaming\\Python\\Python311\\site-packages\\PIL\\TiffImagePlugin.py:866: UserWarning: Truncated File Read\n",
            "  warnings.warn(str(msg))\n"
          ]
        },
        {
          "name": "stdout",
          "output_type": "stream",
          "text": [
            "625/624 [==============================] - ETA: 0s - loss: 0.1830 - accuracy: 0.0013 - precision_2: 0.9302INFO:tensorflow:Assets written to: model.39h5\\assets\n"
          ]
        },
        {
          "name": "stderr",
          "output_type": "stream",
          "text": [
            "INFO:tensorflow:Assets written to: model.39h5\\assets\n"
          ]
        },
        {
          "name": "stdout",
          "output_type": "stream",
          "text": [
            "624/624 [==============================] - 39s 62ms/step - loss: 0.1830 - accuracy: 0.0013 - precision_2: 0.9302 - val_loss: 0.5054 - val_accuracy: 2.4802e-04 - val_precision_2: 0.8065\n",
            "Epoch 40/50\n",
            "484/624 [======================>.......] - ETA: 8s - loss: 0.1808 - accuracy: 0.0019 - precision_2: 0.9307"
          ]
        },
        {
          "name": "stderr",
          "output_type": "stream",
          "text": [
            "C:\\Users\\disrct\\AppData\\Roaming\\Python\\Python311\\site-packages\\PIL\\TiffImagePlugin.py:866: UserWarning: Truncated File Read\n",
            "  warnings.warn(str(msg))\n"
          ]
        },
        {
          "name": "stdout",
          "output_type": "stream",
          "text": [
            "625/624 [==============================] - ETA: 0s - loss: 0.1817 - accuracy: 0.0016 - precision_2: 0.9303INFO:tensorflow:Assets written to: model.40h5\\assets\n"
          ]
        },
        {
          "name": "stderr",
          "output_type": "stream",
          "text": [
            "INFO:tensorflow:Assets written to: model.40h5\\assets\n"
          ]
        },
        {
          "name": "stdout",
          "output_type": "stream",
          "text": [
            "624/624 [==============================] - 39s 63ms/step - loss: 0.1817 - accuracy: 0.0016 - precision_2: 0.9303 - val_loss: 0.4586 - val_accuracy: 0.0000e+00 - val_precision_2: 0.8140\n",
            "Epoch 41/50\n",
            "609/624 [============================>.] - ETA: 0s - loss: 0.1776 - accuracy: 0.0021 - precision_2: 0.9326"
          ]
        },
        {
          "name": "stderr",
          "output_type": "stream",
          "text": [
            "C:\\Users\\disrct\\AppData\\Roaming\\Python\\Python311\\site-packages\\PIL\\TiffImagePlugin.py:866: UserWarning: Truncated File Read\n",
            "  warnings.warn(str(msg))\n"
          ]
        },
        {
          "name": "stdout",
          "output_type": "stream",
          "text": [
            "625/624 [==============================] - ETA: 0s - loss: 0.1791 - accuracy: 0.0021 - precision_2: 0.9321INFO:tensorflow:Assets written to: model.41h5\\assets\n"
          ]
        },
        {
          "name": "stderr",
          "output_type": "stream",
          "text": [
            "INFO:tensorflow:Assets written to: model.41h5\\assets\n"
          ]
        },
        {
          "name": "stdout",
          "output_type": "stream",
          "text": [
            "624/624 [==============================] - 39s 63ms/step - loss: 0.1791 - accuracy: 0.0021 - precision_2: 0.9321 - val_loss: 0.4803 - val_accuracy: 0.0000e+00 - val_precision_2: 0.8006\n",
            "Epoch 42/50\n",
            "344/624 [===============>..............] - ETA: 15s - loss: 0.1626 - accuracy: 0.0025 - precision_2: 0.9411"
          ]
        },
        {
          "name": "stderr",
          "output_type": "stream",
          "text": [
            "C:\\Users\\disrct\\AppData\\Roaming\\Python\\Python311\\site-packages\\PIL\\TiffImagePlugin.py:866: UserWarning: Truncated File Read\n",
            "  warnings.warn(str(msg))\n"
          ]
        },
        {
          "name": "stdout",
          "output_type": "stream",
          "text": [
            "625/624 [==============================] - ETA: 0s - loss: 0.1714 - accuracy: 0.0017 - precision_2: 0.9371INFO:tensorflow:Assets written to: model.42h5\\assets\n"
          ]
        },
        {
          "name": "stderr",
          "output_type": "stream",
          "text": [
            "INFO:tensorflow:Assets written to: model.42h5\\assets\n"
          ]
        },
        {
          "name": "stdout",
          "output_type": "stream",
          "text": [
            "624/624 [==============================] - 38s 61ms/step - loss: 0.1714 - accuracy: 0.0017 - precision_2: 0.9371 - val_loss: 0.5458 - val_accuracy: 4.9603e-04 - val_precision_2: 0.7991\n",
            "Epoch 43/50\n",
            "312/624 [=============>................] - ETA: 17s - loss: 0.1703 - accuracy: 0.0014 - precision_2: 0.9403"
          ]
        },
        {
          "name": "stderr",
          "output_type": "stream",
          "text": [
            "C:\\Users\\disrct\\AppData\\Roaming\\Python\\Python311\\site-packages\\PIL\\TiffImagePlugin.py:866: UserWarning: Truncated File Read\n",
            "  warnings.warn(str(msg))\n"
          ]
        },
        {
          "name": "stdout",
          "output_type": "stream",
          "text": [
            "625/624 [==============================] - ETA: 0s - loss: 0.1711 - accuracy: 0.0010 - precision_2: 0.9375INFO:tensorflow:Assets written to: model.43h5\\assets\n"
          ]
        },
        {
          "name": "stderr",
          "output_type": "stream",
          "text": [
            "INFO:tensorflow:Assets written to: model.43h5\\assets\n"
          ]
        },
        {
          "name": "stdout",
          "output_type": "stream",
          "text": [
            "624/624 [==============================] - 38s 61ms/step - loss: 0.1711 - accuracy: 0.0010 - precision_2: 0.9375 - val_loss: 0.5093 - val_accuracy: 2.4802e-04 - val_precision_2: 0.7912\n",
            "Epoch 44/50\n",
            "487/624 [======================>.......] - ETA: 7s - loss: 0.1717 - accuracy: 0.0010 - precision_2: 0.9362  "
          ]
        },
        {
          "name": "stderr",
          "output_type": "stream",
          "text": [
            "C:\\Users\\disrct\\AppData\\Roaming\\Python\\Python311\\site-packages\\PIL\\TiffImagePlugin.py:866: UserWarning: Truncated File Read\n",
            "  warnings.warn(str(msg))\n"
          ]
        },
        {
          "name": "stdout",
          "output_type": "stream",
          "text": [
            "625/624 [==============================] - ETA: 0s - loss: 0.1716 - accuracy: 0.0012 - precision_2: 0.9361INFO:tensorflow:Assets written to: model.44h5\\assets\n"
          ]
        },
        {
          "name": "stderr",
          "output_type": "stream",
          "text": [
            "INFO:tensorflow:Assets written to: model.44h5\\assets\n"
          ]
        },
        {
          "name": "stdout",
          "output_type": "stream",
          "text": [
            "624/624 [==============================] - 38s 61ms/step - loss: 0.1716 - accuracy: 0.0012 - precision_2: 0.9361 - val_loss: 0.4691 - val_accuracy: 9.9206e-04 - val_precision_2: 0.8130\n",
            "Epoch 45/50\n",
            "431/624 [===================>..........] - ETA: 10s - loss: 0.1732 - accuracy: 0.0036 - precision_2: 0.9354"
          ]
        },
        {
          "name": "stderr",
          "output_type": "stream",
          "text": [
            "C:\\Users\\disrct\\AppData\\Roaming\\Python\\Python311\\site-packages\\PIL\\TiffImagePlugin.py:866: UserWarning: Truncated File Read\n",
            "  warnings.warn(str(msg))\n"
          ]
        },
        {
          "name": "stdout",
          "output_type": "stream",
          "text": [
            "625/624 [==============================] - ETA: 0s - loss: 0.1706 - accuracy: 0.0035 - precision_2: 0.9366INFO:tensorflow:Assets written to: model.45h5\\assets\n"
          ]
        },
        {
          "name": "stderr",
          "output_type": "stream",
          "text": [
            "INFO:tensorflow:Assets written to: model.45h5\\assets\n"
          ]
        },
        {
          "name": "stdout",
          "output_type": "stream",
          "text": [
            "624/624 [==============================] - 38s 61ms/step - loss: 0.1706 - accuracy: 0.0035 - precision_2: 0.9366 - val_loss: 0.4811 - val_accuracy: 0.0000e+00 - val_precision_2: 0.8065\n",
            "Epoch 46/50\n",
            "141/624 [=====>........................] - ETA: 26s - loss: 0.1703 - accuracy: 0.0019 - precision_2: 0.9395"
          ]
        },
        {
          "name": "stderr",
          "output_type": "stream",
          "text": [
            "C:\\Users\\disrct\\AppData\\Roaming\\Python\\Python311\\site-packages\\PIL\\TiffImagePlugin.py:866: UserWarning: Truncated File Read\n",
            "  warnings.warn(str(msg))\n"
          ]
        },
        {
          "name": "stdout",
          "output_type": "stream",
          "text": [
            "625/624 [==============================] - ETA: 0s - loss: 0.1670 - accuracy: 0.0022 - precision_2: 0.9385INFO:tensorflow:Assets written to: model.46h5\\assets\n"
          ]
        },
        {
          "name": "stderr",
          "output_type": "stream",
          "text": [
            "INFO:tensorflow:Assets written to: model.46h5\\assets\n"
          ]
        },
        {
          "name": "stdout",
          "output_type": "stream",
          "text": [
            "624/624 [==============================] - 39s 62ms/step - loss: 0.1670 - accuracy: 0.0022 - precision_2: 0.9385 - val_loss: 0.4757 - val_accuracy: 0.0000e+00 - val_precision_2: 0.8080\n",
            "Epoch 47/50\n",
            " 57/624 [=>............................] - ETA: 33s - loss: 0.1608 - accuracy: 2.7412e-04 - precision_2: 0.9386"
          ]
        },
        {
          "name": "stderr",
          "output_type": "stream",
          "text": [
            "C:\\Users\\disrct\\AppData\\Roaming\\Python\\Python311\\site-packages\\PIL\\TiffImagePlugin.py:866: UserWarning: Truncated File Read\n",
            "  warnings.warn(str(msg))\n"
          ]
        },
        {
          "name": "stdout",
          "output_type": "stream",
          "text": [
            "625/624 [==============================] - ETA: 0s - loss: 0.1559 - accuracy: 0.0012 - precision_2: 0.9416INFO:tensorflow:Assets written to: model.47h5\\assets\n"
          ]
        },
        {
          "name": "stderr",
          "output_type": "stream",
          "text": [
            "INFO:tensorflow:Assets written to: model.47h5\\assets\n"
          ]
        },
        {
          "name": "stdout",
          "output_type": "stream",
          "text": [
            "624/624 [==============================] - 39s 62ms/step - loss: 0.1559 - accuracy: 0.0012 - precision_2: 0.9416 - val_loss: 0.5234 - val_accuracy: 7.4405e-04 - val_precision_2: 0.7981\n",
            "Epoch 48/50\n",
            "436/624 [===================>..........] - ETA: 10s - loss: 0.1619 - accuracy: 0.0021 - precision_2: 0.9403"
          ]
        },
        {
          "name": "stderr",
          "output_type": "stream",
          "text": [
            "C:\\Users\\disrct\\AppData\\Roaming\\Python\\Python311\\site-packages\\PIL\\TiffImagePlugin.py:866: UserWarning: Truncated File Read\n",
            "  warnings.warn(str(msg))\n"
          ]
        },
        {
          "name": "stdout",
          "output_type": "stream",
          "text": [
            "624/624 [============================>.] - ETA: 0s - loss: 0.1617 - accuracy: 0.0019 - precision_2: 0.9406INFO:tensorflow:Assets written to: model.48h5\\assets\n"
          ]
        },
        {
          "name": "stderr",
          "output_type": "stream",
          "text": [
            "INFO:tensorflow:Assets written to: model.48h5\\assets\n"
          ]
        },
        {
          "name": "stdout",
          "output_type": "stream",
          "text": [
            "624/624 [==============================] - 39s 63ms/step - loss: 0.1619 - accuracy: 0.0019 - precision_2: 0.9406 - val_loss: 0.5391 - val_accuracy: 0.0000e+00 - val_precision_2: 0.8051\n",
            "Epoch 49/50\n",
            "618/624 [============================>.] - ETA: 0s - loss: 0.1515 - accuracy: 0.0020 - precision_2: 0.9460"
          ]
        },
        {
          "name": "stderr",
          "output_type": "stream",
          "text": [
            "C:\\Users\\disrct\\AppData\\Roaming\\Python\\Python311\\site-packages\\PIL\\TiffImagePlugin.py:866: UserWarning: Truncated File Read\n",
            "  warnings.warn(str(msg))\n"
          ]
        },
        {
          "name": "stdout",
          "output_type": "stream",
          "text": [
            "625/624 [==============================] - ETA: 0s - loss: 0.1517 - accuracy: 0.0020 - precision_2: 0.9459INFO:tensorflow:Assets written to: model.49h5\\assets\n"
          ]
        },
        {
          "name": "stderr",
          "output_type": "stream",
          "text": [
            "INFO:tensorflow:Assets written to: model.49h5\\assets\n"
          ]
        },
        {
          "name": "stdout",
          "output_type": "stream",
          "text": [
            "624/624 [==============================] - 39s 63ms/step - loss: 0.1517 - accuracy: 0.0020 - precision_2: 0.9459 - val_loss: 0.5551 - val_accuracy: 9.9206e-04 - val_precision_2: 0.8026\n",
            "Epoch 50/50\n",
            "448/624 [====================>.........] - ETA: 9s - loss: 0.1563 - accuracy: 0.0016 - precision_2: 0.9428 "
          ]
        },
        {
          "name": "stderr",
          "output_type": "stream",
          "text": [
            "C:\\Users\\disrct\\AppData\\Roaming\\Python\\Python311\\site-packages\\PIL\\TiffImagePlugin.py:866: UserWarning: Truncated File Read\n",
            "  warnings.warn(str(msg))\n"
          ]
        },
        {
          "name": "stdout",
          "output_type": "stream",
          "text": [
            "625/624 [==============================] - ETA: 0s - loss: 0.1566 - accuracy: 0.0015 - precision_2: 0.9429INFO:tensorflow:Assets written to: model.50h5\\assets\n"
          ]
        },
        {
          "name": "stderr",
          "output_type": "stream",
          "text": [
            "INFO:tensorflow:Assets written to: model.50h5\\assets\n"
          ]
        },
        {
          "name": "stdout",
          "output_type": "stream",
          "text": [
            "624/624 [==============================] - 39s 62ms/step - loss: 0.1566 - accuracy: 0.0015 - precision_2: 0.9429 - val_loss: 0.4618 - val_accuracy: 0.0000e+00 - val_precision_2: 0.8080\n",
            "INFO:tensorflow:Assets written to: model\\assets\n"
          ]
        },
        {
          "name": "stderr",
          "output_type": "stream",
          "text": [
            "INFO:tensorflow:Assets written to: model\\assets\n"
          ]
        }
      ],
      "source": [
        "model.fit(\n",
        "    X_train,\n",
        "    validation_data = X_tests,\n",
        "    steps_per_epoch = total_data / batch_size,\n",
        "    epochs = 50,\n",
        "    validation_steps = (total_data / batch_size) / 10, \n",
        "    callbacks = [\n",
        "        callbacks.ModelCheckpoint(\n",
        "            filepath = 'model.{epoch:02d}h5'\n",
        "        )\n",
        "    ]\n",
        ")\n",
        "\n",
        "model.save('model')"
      ]
    },
    {
      "cell_type": "code",
      "execution_count": null,
      "metadata": {},
      "outputs": [],
      "source": []
    }
  ],
  "metadata": {
    "colab": {
      "authorship_tag": "ABX9TyPgEP4L6LqfoIl1CCO2me9L",
      "include_colab_link": true,
      "provenance": []
    },
    "kernelspec": {
      "display_name": "Python 3",
      "name": "python3"
    },
    "language_info": {
      "codemirror_mode": {
        "name": "ipython",
        "version": 3
      },
      "file_extension": ".py",
      "mimetype": "text/x-python",
      "name": "python",
      "nbconvert_exporter": "python",
      "pygments_lexer": "ipython3",
      "version": "3.11.4"
    }
  },
  "nbformat": 4,
  "nbformat_minor": 0
}
